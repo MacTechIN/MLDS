{
 "cells": [
  {
   "cell_type": "code",
   "execution_count": 1,
   "id": "11e27129",
   "metadata": {},
   "outputs": [],
   "source": [
    "import cv2 \n",
    "import numpy as np "
   ]
  },
  {
   "cell_type": "code",
   "execution_count": 2,
   "id": "a3747496",
   "metadata": {},
   "outputs": [],
   "source": [
    "# 1.이미지 불러오기 \n",
    "img = cv2.imread('../img/fish.jpg')"
   ]
  },
  {
   "cell_type": "code",
   "execution_count": 6,
   "id": "a4d3ab6a",
   "metadata": {},
   "outputs": [
    {
     "name": "stdout",
     "output_type": "stream",
     "text": [
      "rows: 256\n",
      "cols: 256\n"
     ]
    }
   ],
   "source": [
    "# 2.이미지 크기 확인하기 \n",
    "rows,cols = img.shape[0:2]\n",
    "print('rows:',rows)\n",
    "print('cols:',cols)"
   ]
  },
  {
   "cell_type": "code",
   "execution_count": 4,
   "id": "f21681e6",
   "metadata": {},
   "outputs": [
    {
     "name": "stdout",
     "output_type": "stream",
     "text": [
      "(256, 256, 3)\n"
     ]
    }
   ],
   "source": [
    "print(img.shape)"
   ]
  },
  {
   "cell_type": "code",
   "execution_count": 7,
   "id": "7005b5c7",
   "metadata": {},
   "outputs": [],
   "source": [
    "# 이동할 픽셀 거리  \n",
    "\n",
    "dx, dy = 100,50"
   ]
  },
  {
   "cell_type": "markdown",
   "id": "88bdc0cf",
   "metadata": {},
   "source": [
    "- 위에 식은 행렬을 이용하기 위해 아래와 같이 단순화 시킬수 있다\n",
    "```\n",
    "x` = x + dx  = 1x + 0y + 1dx \n",
    "y` = y + dy  = 0x + 1y + 1dy \n",
    "\n",
    "```"
   ]
  },
  {
   "cell_type": "code",
   "execution_count": null,
   "id": "00c419f1",
   "metadata": {},
   "outputs": [],
   "source": [
    "# 이동을 할 행렬식 \n",
    "mtrx = np.float32([[1,0,dx],\n",
    "                  [0,1,dy]])"
   ]
  },
  {
   "cell_type": "code",
   "execution_count": null,
   "id": "ce51842f",
   "metadata": {},
   "outputs": [],
   "source": [
    "dst = cv2.warpAffine(img,mtrx, flag  )"
   ]
  }
 ],
 "metadata": {
  "kernelspec": {
   "display_name": "Python 3 (ipykernel)",
   "language": "python",
   "name": "python3"
  },
  "language_info": {
   "codemirror_mode": {
    "name": "ipython",
    "version": 3
   },
   "file_extension": ".py",
   "mimetype": "text/x-python",
   "name": "python",
   "nbconvert_exporter": "python",
   "pygments_lexer": "ipython3",
   "version": "3.11.5"
  }
 },
 "nbformat": 4,
 "nbformat_minor": 5
}
