{
 "cells": [
  {
   "cell_type": "code",
   "execution_count": 3,
   "id": "3fbf09ea",
   "metadata": {},
   "outputs": [
    {
     "name": "stdout",
     "output_type": "stream",
     "text": [
      "<class 'pandas._libs.tslibs.timestamps.Timestamp'>\n",
      "2021-01-02 09:00:00\n"
     ]
    }
   ],
   "source": [
    "import pandas as pd \n",
    "\n",
    "ts = pd.to_datetime(\"20210102 090000\")\n",
    "\n",
    "print(type(ts))\n",
    "print(ts)"
   ]
  },
  {
   "cell_type": "code",
   "execution_count": 5,
   "id": "75e1b949",
   "metadata": {},
   "outputs": [
    {
     "name": "stdout",
     "output_type": "stream",
     "text": [
      "1986-07-22 00:00:00\n"
     ]
    }
   ],
   "source": [
    "print(pd.to_datetime(\"86/07/22\"))"
   ]
  },
  {
   "cell_type": "code",
   "execution_count": 6,
   "id": "ddab51e1",
   "metadata": {},
   "outputs": [
    {
     "name": "stdout",
     "output_type": "stream",
     "text": [
      "2020-07-06 00:00:00\n"
     ]
    }
   ],
   "source": [
    "print(pd.to_datetime('06/07/20', format=\"%d/%m/%y\"))"
   ]
  },
  {
   "cell_type": "code",
   "execution_count": 7,
   "id": "bbde1103",
   "metadata": {},
   "outputs": [
    {
     "name": "stdout",
     "output_type": "stream",
     "text": [
      "2021\n"
     ]
    }
   ],
   "source": [
    "print(ts.year)"
   ]
  },
  {
   "cell_type": "code",
   "execution_count": 8,
   "id": "955b8177",
   "metadata": {},
   "outputs": [
    {
     "name": "stdout",
     "output_type": "stream",
     "text": [
      "1\n"
     ]
    }
   ],
   "source": [
    "print(ts.month)"
   ]
  },
  {
   "cell_type": "code",
   "execution_count": 9,
   "id": "d6c7f033",
   "metadata": {},
   "outputs": [
    {
     "name": "stdout",
     "output_type": "stream",
     "text": [
      "5\n"
     ]
    }
   ],
   "source": [
    "print(ts.weekday())"
   ]
  },
  {
   "cell_type": "code",
   "execution_count": 10,
   "id": "d42b7d4d",
   "metadata": {},
   "outputs": [
    {
     "name": "stdout",
     "output_type": "stream",
     "text": [
      "2021-01 -02\n"
     ]
    }
   ],
   "source": [
    "print(ts.strftime(\"%Y-%m -%d\"))"
   ]
  },
  {
   "cell_type": "code",
   "execution_count": 15,
   "id": "0f75d0d7",
   "metadata": {},
   "outputs": [
    {
     "name": "stdout",
     "output_type": "stream",
     "text": [
      "02\n"
     ]
    }
   ],
   "source": [
    "print(ts.strftime(\"%d\"))"
   ]
  },
  {
   "cell_type": "code",
   "execution_count": 17,
   "id": "b55a4651",
   "metadata": {},
   "outputs": [
    {
     "name": "stderr",
     "output_type": "stream",
     "text": [
      "/Users/sl/anaconda3/envs/ML/lib/python3.11/site-packages/openpyxl/styles/stylesheet.py:226: UserWarning: Workbook contains no default style, apply openpyxl's default\n",
      "  warn(\"Workbook contains no default style, apply openpyxl's default\")\n"
     ]
    }
   ],
   "source": [
    "df = pd.read_excel(\"./data.xlsx\", index_col=0)"
   ]
  },
  {
   "cell_type": "code",
   "execution_count": 19,
   "id": "6f8b7e35",
   "metadata": {},
   "outputs": [
    {
     "name": "stdout",
     "output_type": "stream",
     "text": [
      "               종가    대비   등락률     시가     고가     저가       거래량           거래대금  \\\n",
      "일자                                                                            \n",
      "2021/08/13  74400 -2600 -3.38  75800  76000  74100  61270643  4575267536355   \n",
      "2021/08/12  77000 -1500 -1.91  77100  78200  76900  42365223  3276635421700   \n",
      "2021/08/11  78500 -1700 -2.12  79600  79800  78500  30241137  2389977254924   \n",
      "\n",
      "                       시가총액       상장주식수  \n",
      "일자                                       \n",
      "2021/08/13  444151821720000  5969782550  \n",
      "2021/08/12  459673256350000  5969782550  \n",
      "2021/08/11  468627930175000  5969782550  \n"
     ]
    }
   ],
   "source": [
    "print(df.head(3))"
   ]
  },
  {
   "cell_type": "code",
   "execution_count": 20,
   "id": "a7938ea7",
   "metadata": {},
   "outputs": [
    {
     "name": "stdout",
     "output_type": "stream",
     "text": [
      "<class 'pandas.core.frame.DataFrame'>\n",
      "Index: 127 entries, 2021/08/13 to 2021/02/15\n",
      "Data columns (total 10 columns):\n",
      " #   Column  Non-Null Count  Dtype  \n",
      "---  ------  --------------  -----  \n",
      " 0   종가      127 non-null    int64  \n",
      " 1   대비      127 non-null    int64  \n",
      " 2   등락률     127 non-null    float64\n",
      " 3   시가      127 non-null    int64  \n",
      " 4   고가      127 non-null    int64  \n",
      " 5   저가      127 non-null    int64  \n",
      " 6   거래량     127 non-null    int64  \n",
      " 7   거래대금    127 non-null    int64  \n",
      " 8   시가총액    127 non-null    int64  \n",
      " 9   상장주식수   127 non-null    int64  \n",
      "dtypes: float64(1), int64(9)\n",
      "memory usage: 10.9+ KB\n"
     ]
    }
   ],
   "source": [
    "df.info()"
   ]
  },
  {
   "cell_type": "code",
   "execution_count": 22,
   "id": "6ad8bf47",
   "metadata": {},
   "outputs": [
    {
     "data": {
      "text/plain": [
       "Index(['2021/08/13', '2021/08/12', '2021/08/11', '2021/08/10', '2021/08/09',\n",
       "       '2021/08/06', '2021/08/05', '2021/08/04', '2021/08/03', '2021/08/02',\n",
       "       ...\n",
       "       '2021/02/26', '2021/02/25', '2021/02/24', '2021/02/23', '2021/02/22',\n",
       "       '2021/02/19', '2021/02/18', '2021/02/17', '2021/02/16', '2021/02/15'],\n",
       "      dtype='object', name='일자', length=127)"
      ]
     },
     "execution_count": 22,
     "metadata": {},
     "output_type": "execute_result"
    }
   ],
   "source": [
    "df.index"
   ]
  },
  {
   "cell_type": "code",
   "execution_count": 26,
   "id": "ead1231d",
   "metadata": {},
   "outputs": [
    {
     "data": {
      "text/plain": [
       "str"
      ]
     },
     "execution_count": 26,
     "metadata": {},
     "output_type": "execute_result"
    }
   ],
   "source": [
    "type(df.index[0])"
   ]
  },
  {
   "cell_type": "code",
   "execution_count": 28,
   "id": "3c3eb907",
   "metadata": {},
   "outputs": [],
   "source": [
    "df.index =  pd.to_datetime(df.index)"
   ]
  },
  {
   "cell_type": "code",
   "execution_count": 29,
   "id": "ba12b1c5",
   "metadata": {},
   "outputs": [],
   "source": [
    "df = df.sort_index()"
   ]
  },
  {
   "cell_type": "code",
   "execution_count": 30,
   "id": "cc92f13a",
   "metadata": {},
   "outputs": [
    {
     "name": "stdout",
     "output_type": "stream",
     "text": [
      "               종가    대비   등락률     시가     고가     저가       거래량           거래대금  \\\n",
      "일자                                                                            \n",
      "2021-02-15  84200  2600  3.19  83800  84500  83300  23529706  1978336504100   \n",
      "2021-02-16  84900   700  0.83  84500  86000  84200  20483100  1740792201903   \n",
      "2021-02-17  83200 -1700 -2.00  83900  84200  83000  18307735  1526409421172   \n",
      "2021-02-18  82100 -1100 -1.32  83200  83600  82100  21327683  1762033944231   \n",
      "2021-02-19  82600   500  0.61  82300  82800  81000  25880879  2121275310450   \n",
      "\n",
      "                       시가총액       상장주식수  \n",
      "일자                                       \n",
      "2021-02-15  502655690710000  5969782550  \n",
      "2021-02-16  506834538495000  5969782550  \n",
      "2021-02-17  496685908160000  5969782550  \n",
      "2021-02-18  490119147355000  5969782550  \n",
      "2021-02-19  493104038630000  5969782550  \n"
     ]
    }
   ],
   "source": [
    "print(df.head(5))"
   ]
  },
  {
   "cell_type": "code",
   "execution_count": 31,
   "id": "7a9f36cf",
   "metadata": {},
   "outputs": [
    {
     "name": "stderr",
     "output_type": "stream",
     "text": [
      "/Users/sl/anaconda3/envs/ML/lib/python3.11/site-packages/openpyxl/styles/stylesheet.py:226: UserWarning: Workbook contains no default style, apply openpyxl's default\n",
      "  warn(\"Workbook contains no default style, apply openpyxl's default\")\n"
     ]
    }
   ],
   "source": [
    "df = pd.read_excel(\"./data.xlsx\", parse_dates=['일자'])"
   ]
  },
  {
   "cell_type": "code",
   "execution_count": 33,
   "id": "8ab0361b",
   "metadata": {},
   "outputs": [
    {
     "name": "stdout",
     "output_type": "stream",
     "text": [
      "datetime64[ns]\n"
     ]
    }
   ],
   "source": [
    "print(df['일자'].dtype)"
   ]
  },
  {
   "cell_type": "code",
   "execution_count": 34,
   "id": "c5db7354",
   "metadata": {},
   "outputs": [
    {
     "name": "stdout",
     "output_type": "stream",
     "text": [
      "<class 'pandas._libs.tslibs.timestamps.Timestamp'>\n"
     ]
    }
   ],
   "source": [
    "print(type(df['일자'].iloc[0]))"
   ]
  },
  {
   "cell_type": "code",
   "execution_count": 35,
   "id": "802cde59",
   "metadata": {},
   "outputs": [
    {
     "data": {
      "text/plain": [
       "0      3\n",
       "1      3\n",
       "2      3\n",
       "3      3\n",
       "4      3\n",
       "      ..\n",
       "122    1\n",
       "123    1\n",
       "124    1\n",
       "125    1\n",
       "126    1\n",
       "Name: 일자, Length: 127, dtype: int32"
      ]
     },
     "execution_count": 35,
     "metadata": {},
     "output_type": "execute_result"
    }
   ],
   "source": [
    "df['일자'].dt.quarter"
   ]
  },
  {
   "cell_type": "code",
   "execution_count": 36,
   "id": "5b00a53e",
   "metadata": {},
   "outputs": [],
   "source": [
    "# gropuby  시가/고가/저가/종가 정리해보기 \n",
    "\n",
    "#원하는 데이터만 분리시키기 \n",
    "\n",
    "df1 = df[['일자','시가','저가','고가','종가']].copy()"
   ]
  },
  {
   "cell_type": "code",
   "execution_count": 37,
   "id": "067b4980",
   "metadata": {},
   "outputs": [],
   "source": [
    "df1['year'] = df['일자'].dt.year"
   ]
  },
  {
   "cell_type": "code",
   "execution_count": 38,
   "id": "7d8526e6",
   "metadata": {},
   "outputs": [
    {
     "name": "stdout",
     "output_type": "stream",
     "text": [
      "          일자     시가     저가     고가     종가  year\n",
      "0 2021-08-13  75800  74100  76000  74400  2021\n",
      "1 2021-08-12  77100  76900  78200  77000  2021\n",
      "2 2021-08-11  79600  78500  79800  78500  2021\n",
      "3 2021-08-10  82300  80100  82400  80200  2021\n",
      "4 2021-08-09  81500  80900  82300  81500  2021\n"
     ]
    }
   ],
   "source": [
    "print(df1.head())"
   ]
  },
  {
   "cell_type": "code",
   "execution_count": 41,
   "id": "472617c5",
   "metadata": {},
   "outputs": [],
   "source": [
    "df1['month'] = df['일자'].dt.month"
   ]
  },
  {
   "cell_type": "code",
   "execution_count": 42,
   "id": "6773f8ae",
   "metadata": {},
   "outputs": [
    {
     "data": {
      "text/html": [
       "<div>\n",
       "<style scoped>\n",
       "    .dataframe tbody tr th:only-of-type {\n",
       "        vertical-align: middle;\n",
       "    }\n",
       "\n",
       "    .dataframe tbody tr th {\n",
       "        vertical-align: top;\n",
       "    }\n",
       "\n",
       "    .dataframe thead th {\n",
       "        text-align: right;\n",
       "    }\n",
       "</style>\n",
       "<table border=\"1\" class=\"dataframe\">\n",
       "  <thead>\n",
       "    <tr style=\"text-align: right;\">\n",
       "      <th></th>\n",
       "      <th>일자</th>\n",
       "      <th>시가</th>\n",
       "      <th>저가</th>\n",
       "      <th>고가</th>\n",
       "      <th>종가</th>\n",
       "      <th>year</th>\n",
       "      <th>month</th>\n",
       "    </tr>\n",
       "  </thead>\n",
       "  <tbody>\n",
       "    <tr>\n",
       "      <th>0</th>\n",
       "      <td>2021-08-13</td>\n",
       "      <td>75800</td>\n",
       "      <td>74100</td>\n",
       "      <td>76000</td>\n",
       "      <td>74400</td>\n",
       "      <td>2021</td>\n",
       "      <td>8</td>\n",
       "    </tr>\n",
       "    <tr>\n",
       "      <th>1</th>\n",
       "      <td>2021-08-12</td>\n",
       "      <td>77100</td>\n",
       "      <td>76900</td>\n",
       "      <td>78200</td>\n",
       "      <td>77000</td>\n",
       "      <td>2021</td>\n",
       "      <td>8</td>\n",
       "    </tr>\n",
       "    <tr>\n",
       "      <th>2</th>\n",
       "      <td>2021-08-11</td>\n",
       "      <td>79600</td>\n",
       "      <td>78500</td>\n",
       "      <td>79800</td>\n",
       "      <td>78500</td>\n",
       "      <td>2021</td>\n",
       "      <td>8</td>\n",
       "    </tr>\n",
       "    <tr>\n",
       "      <th>3</th>\n",
       "      <td>2021-08-10</td>\n",
       "      <td>82300</td>\n",
       "      <td>80100</td>\n",
       "      <td>82400</td>\n",
       "      <td>80200</td>\n",
       "      <td>2021</td>\n",
       "      <td>8</td>\n",
       "    </tr>\n",
       "    <tr>\n",
       "      <th>4</th>\n",
       "      <td>2021-08-09</td>\n",
       "      <td>81500</td>\n",
       "      <td>80900</td>\n",
       "      <td>82300</td>\n",
       "      <td>81500</td>\n",
       "      <td>2021</td>\n",
       "      <td>8</td>\n",
       "    </tr>\n",
       "  </tbody>\n",
       "</table>\n",
       "</div>"
      ],
      "text/plain": [
       "          일자     시가     저가     고가     종가  year  month\n",
       "0 2021-08-13  75800  74100  76000  74400  2021      8\n",
       "1 2021-08-12  77100  76900  78200  77000  2021      8\n",
       "2 2021-08-11  79600  78500  79800  78500  2021      8\n",
       "3 2021-08-10  82300  80100  82400  80200  2021      8\n",
       "4 2021-08-09  81500  80900  82300  81500  2021      8"
      ]
     },
     "execution_count": 42,
     "metadata": {},
     "output_type": "execute_result"
    }
   ],
   "source": [
    "df1.head()"
   ]
  },
  {
   "cell_type": "code",
   "execution_count": 43,
   "id": "47dbb23e",
   "metadata": {},
   "outputs": [
    {
     "data": {
      "text/plain": [
       "numpy.int32"
      ]
     },
     "execution_count": 43,
     "metadata": {},
     "output_type": "execute_result"
    }
   ],
   "source": [
    "type (df1['year'][0])"
   ]
  },
  {
   "cell_type": "code",
   "execution_count": 48,
   "id": "5ba54703",
   "metadata": {},
   "outputs": [
    {
     "name": "stdout",
     "output_type": "stream",
     "text": [
      "<pandas.core.groupby.generic.DataFrameGroupBy object at 0x16bb0f7d0>\n"
     ]
    }
   ],
   "source": [
    "gb = df1.groupby(['year','month'])\n",
    "\n",
    "print (gb)\n"
   ]
  },
  {
   "cell_type": "code",
   "execution_count": 53,
   "id": "8fc2c605",
   "metadata": {},
   "outputs": [
    {
     "data": {
      "text/html": [
       "<div>\n",
       "<style scoped>\n",
       "    .dataframe tbody tr th:only-of-type {\n",
       "        vertical-align: middle;\n",
       "    }\n",
       "\n",
       "    .dataframe tbody tr th {\n",
       "        vertical-align: top;\n",
       "    }\n",
       "\n",
       "    .dataframe thead th {\n",
       "        text-align: right;\n",
       "    }\n",
       "</style>\n",
       "<table border=\"1\" class=\"dataframe\">\n",
       "  <thead>\n",
       "    <tr style=\"text-align: right;\">\n",
       "      <th></th>\n",
       "      <th>일자</th>\n",
       "      <th>시가</th>\n",
       "      <th>저가</th>\n",
       "      <th>고가</th>\n",
       "      <th>종가</th>\n",
       "      <th>year</th>\n",
       "      <th>month</th>\n",
       "    </tr>\n",
       "  </thead>\n",
       "  <tbody>\n",
       "    <tr>\n",
       "      <th>117</th>\n",
       "      <td>2021-02-26</td>\n",
       "      <td>82800</td>\n",
       "      <td>82000</td>\n",
       "      <td>83400</td>\n",
       "      <td>82500</td>\n",
       "      <td>2021</td>\n",
       "      <td>2</td>\n",
       "    </tr>\n",
       "    <tr>\n",
       "      <th>118</th>\n",
       "      <td>2021-02-25</td>\n",
       "      <td>84000</td>\n",
       "      <td>83000</td>\n",
       "      <td>85400</td>\n",
       "      <td>85300</td>\n",
       "      <td>2021</td>\n",
       "      <td>2</td>\n",
       "    </tr>\n",
       "    <tr>\n",
       "      <th>119</th>\n",
       "      <td>2021-02-24</td>\n",
       "      <td>81800</td>\n",
       "      <td>81300</td>\n",
       "      <td>83600</td>\n",
       "      <td>82000</td>\n",
       "      <td>2021</td>\n",
       "      <td>2</td>\n",
       "    </tr>\n",
       "    <tr>\n",
       "      <th>120</th>\n",
       "      <td>2021-02-23</td>\n",
       "      <td>81200</td>\n",
       "      <td>81100</td>\n",
       "      <td>82900</td>\n",
       "      <td>82000</td>\n",
       "      <td>2021</td>\n",
       "      <td>2</td>\n",
       "    </tr>\n",
       "    <tr>\n",
       "      <th>121</th>\n",
       "      <td>2021-02-22</td>\n",
       "      <td>83800</td>\n",
       "      <td>82200</td>\n",
       "      <td>84200</td>\n",
       "      <td>82200</td>\n",
       "      <td>2021</td>\n",
       "      <td>2</td>\n",
       "    </tr>\n",
       "  </tbody>\n",
       "</table>\n",
       "</div>"
      ],
      "text/plain": [
       "            일자     시가     저가     고가     종가  year  month\n",
       "117 2021-02-26  82800  82000  83400  82500  2021      2\n",
       "118 2021-02-25  84000  83000  85400  85300  2021      2\n",
       "119 2021-02-24  81800  81300  83600  82000  2021      2\n",
       "120 2021-02-23  81200  81100  82900  82000  2021      2\n",
       "121 2021-02-22  83800  82200  84200  82200  2021      2"
      ]
     },
     "execution_count": 53,
     "metadata": {},
     "output_type": "execute_result"
    }
   ],
   "source": [
    "gb.get_group((2021,2)).head()"
   ]
  },
  {
   "cell_type": "code",
   "execution_count": 47,
   "id": "24291903",
   "metadata": {},
   "outputs": [
    {
     "data": {
      "text/html": [
       "<div>\n",
       "<style scoped>\n",
       "    .dataframe tbody tr th:only-of-type {\n",
       "        vertical-align: middle;\n",
       "    }\n",
       "\n",
       "    .dataframe tbody tr th {\n",
       "        vertical-align: top;\n",
       "    }\n",
       "\n",
       "    .dataframe thead th {\n",
       "        text-align: right;\n",
       "    }\n",
       "</style>\n",
       "<table border=\"1\" class=\"dataframe\">\n",
       "  <thead>\n",
       "    <tr style=\"text-align: right;\">\n",
       "      <th></th>\n",
       "      <th></th>\n",
       "      <th>시가</th>\n",
       "      <th>저가</th>\n",
       "      <th>고가</th>\n",
       "      <th>종가</th>\n",
       "    </tr>\n",
       "    <tr>\n",
       "      <th>year</th>\n",
       "      <th>month</th>\n",
       "      <th></th>\n",
       "      <th></th>\n",
       "      <th></th>\n",
       "      <th></th>\n",
       "    </tr>\n",
       "  </thead>\n",
       "  <tbody>\n",
       "    <tr>\n",
       "      <th rowspan=\"7\" valign=\"top\">2021</th>\n",
       "      <th>2</th>\n",
       "      <td>82800</td>\n",
       "      <td>81000</td>\n",
       "      <td>86000</td>\n",
       "      <td>84200</td>\n",
       "    </tr>\n",
       "    <tr>\n",
       "      <th>3</th>\n",
       "      <td>82400</td>\n",
       "      <td>80600</td>\n",
       "      <td>85300</td>\n",
       "      <td>83600</td>\n",
       "    </tr>\n",
       "    <tr>\n",
       "      <th>4</th>\n",
       "      <td>81900</td>\n",
       "      <td>81500</td>\n",
       "      <td>86200</td>\n",
       "      <td>82900</td>\n",
       "    </tr>\n",
       "    <tr>\n",
       "      <th>5</th>\n",
       "      <td>80300</td>\n",
       "      <td>78400</td>\n",
       "      <td>83500</td>\n",
       "      <td>81700</td>\n",
       "    </tr>\n",
       "    <tr>\n",
       "      <th>6</th>\n",
       "      <td>81100</td>\n",
       "      <td>79600</td>\n",
       "      <td>83000</td>\n",
       "      <td>80600</td>\n",
       "    </tr>\n",
       "    <tr>\n",
       "      <th>7</th>\n",
       "      <td>78900</td>\n",
       "      <td>78100</td>\n",
       "      <td>81300</td>\n",
       "      <td>80100</td>\n",
       "    </tr>\n",
       "    <tr>\n",
       "      <th>8</th>\n",
       "      <td>75800</td>\n",
       "      <td>74100</td>\n",
       "      <td>83300</td>\n",
       "      <td>79300</td>\n",
       "    </tr>\n",
       "  </tbody>\n",
       "</table>\n",
       "</div>"
      ],
      "text/plain": [
       "               시가     저가     고가     종가\n",
       "year month                            \n",
       "2021 2      82800  81000  86000  84200\n",
       "     3      82400  80600  85300  83600\n",
       "     4      81900  81500  86200  82900\n",
       "     5      80300  78400  83500  81700\n",
       "     6      81100  79600  83000  80600\n",
       "     7      78900  78100  81300  80100\n",
       "     8      75800  74100  83300  79300"
      ]
     },
     "execution_count": 47,
     "metadata": {},
     "output_type": "execute_result"
    }
   ],
   "source": [
    "\n",
    "how = {\n",
    "    \"시가\":'first',\n",
    "    \"저가\": min,\n",
    "    \"고가\": max,\n",
    "    \"종가\":'last'\n",
    "}\n",
    "\n",
    "gb.agg(how)"
   ]
  },
  {
   "cell_type": "code",
   "execution_count": null,
   "id": "2872bdd7",
   "metadata": {},
   "outputs": [],
   "source": []
  }
 ],
 "metadata": {
  "kernelspec": {
   "display_name": "Python 3 (ipykernel)",
   "language": "python",
   "name": "python3"
  },
  "language_info": {
   "codemirror_mode": {
    "name": "ipython",
    "version": 3
   },
   "file_extension": ".py",
   "mimetype": "text/x-python",
   "name": "python",
   "nbconvert_exporter": "python",
   "pygments_lexer": "ipython3",
   "version": "3.11.5"
  }
 },
 "nbformat": 4,
 "nbformat_minor": 5
}
