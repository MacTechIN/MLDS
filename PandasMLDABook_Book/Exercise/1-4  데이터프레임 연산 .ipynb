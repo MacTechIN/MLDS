{
 "cells": [
  {
   "cell_type": "code",
   "execution_count": 1,
   "id": "0634ba7d",
   "metadata": {},
   "outputs": [],
   "source": [
    "import pandas as pd \n",
    "import numpy as np\n",
    "import seaborn as sns"
   ]
  },
  {
   "cell_type": "code",
   "execution_count": 3,
   "id": "046fa121",
   "metadata": {},
   "outputs": [],
   "source": [
    "titanic = sns.load_dataset('titanic')"
   ]
  },
  {
   "cell_type": "code",
   "execution_count": 4,
   "id": "257760f8",
   "metadata": {},
   "outputs": [],
   "source": [
    "# : = All rows \n",
    "df = titanic.loc[: , ['age','fare']]"
   ]
  },
  {
   "cell_type": "code",
   "execution_count": 5,
   "id": "b1c3e57e",
   "metadata": {},
   "outputs": [
    {
     "name": "stdout",
     "output_type": "stream",
     "text": [
      "    age     fare\n",
      "0  22.0   7.2500\n",
      "1  38.0  71.2833\n",
      "2  26.0   7.9250\n",
      "3  35.0  53.1000\n",
      "4  35.0   8.0500\n"
     ]
    }
   ],
   "source": [
    "print(df.head())"
   ]
  },
  {
   "cell_type": "code",
   "execution_count": 6,
   "id": "f905707b",
   "metadata": {},
   "outputs": [],
   "source": [
    "addition = df + 10 "
   ]
  },
  {
   "cell_type": "code",
   "execution_count": 7,
   "id": "0d71a149",
   "metadata": {},
   "outputs": [
    {
     "name": "stdout",
     "output_type": "stream",
     "text": [
      "    age     fare\n",
      "0  32.0  17.2500\n",
      "1  48.0  81.2833\n",
      "2  36.0  17.9250\n",
      "3  45.0  63.1000\n",
      "4  45.0  18.0500\n"
     ]
    }
   ],
   "source": [
    "print(addition.head())"
   ]
  },
  {
   "cell_type": "code",
   "execution_count": 9,
   "id": "ecab4c01",
   "metadata": {},
   "outputs": [
    {
     "name": "stdout",
     "output_type": "stream",
     "text": [
      "<class 'pandas.core.frame.DataFrame'>\n"
     ]
    }
   ],
   "source": [
    "print(type(addition))"
   ]
  },
  {
   "cell_type": "code",
   "execution_count": 10,
   "id": "42ba017e",
   "metadata": {},
   "outputs": [],
   "source": [
    "substraction = addition - df "
   ]
  },
  {
   "cell_type": "code",
   "execution_count": 11,
   "id": "8f0b8cf1",
   "metadata": {},
   "outputs": [
    {
     "name": "stdout",
     "output_type": "stream",
     "text": [
      "      age  fare\n",
      "0    10.0  10.0\n",
      "1    10.0  10.0\n",
      "2    10.0  10.0\n",
      "3    10.0  10.0\n",
      "4    10.0  10.0\n",
      "..    ...   ...\n",
      "886  10.0  10.0\n",
      "887  10.0  10.0\n",
      "888   NaN  10.0\n",
      "889  10.0  10.0\n",
      "890  10.0  10.0\n",
      "\n",
      "[891 rows x 2 columns]\n"
     ]
    }
   ],
   "source": [
    "print(substraction)"
   ]
  },
  {
   "cell_type": "code",
   "execution_count": null,
   "id": "ecf36544",
   "metadata": {},
   "outputs": [],
   "source": []
  }
 ],
 "metadata": {
  "kernelspec": {
   "display_name": "Python 3 (ipykernel)",
   "language": "python",
   "name": "python3"
  },
  "language_info": {
   "codemirror_mode": {
    "name": "ipython",
    "version": 3
   },
   "file_extension": ".py",
   "mimetype": "text/x-python",
   "name": "python",
   "nbconvert_exporter": "python",
   "pygments_lexer": "ipython3",
   "version": "3.10.13"
  }
 },
 "nbformat": 4,
 "nbformat_minor": 5
}
