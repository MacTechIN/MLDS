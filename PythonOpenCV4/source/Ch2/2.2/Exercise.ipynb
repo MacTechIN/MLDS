{
 "cells": [
  {
   "cell_type": "code",
   "execution_count": 1,
   "id": "262171cb",
   "metadata": {},
   "outputs": [],
   "source": [
    "import cv2 as cv "
   ]
  },
  {
   "cell_type": "code",
   "execution_count": 4,
   "id": "f31c7596",
   "metadata": {},
   "outputs": [],
   "source": [
    "cap = cv.VideoCapture(0)\n",
    "\n",
    "if cap.isOpened() == False:\n",
    "    print(\"카메라 열수 없음\")\n",
    "    exit(1)\n",
    "    \n",
    "while(True):\n",
    "    ret, img_frame= cap.read()\n",
    "    \n",
    "    if ret== False:\n",
    "        print(\"캡쳐 실패\")\n",
    "        break\n",
    "        \n",
    "    cv.imshow('Video',img_frame)\n",
    "    \n",
    "    key = cv.waitKey()\n",
    "    if key == 27:\n",
    "        break\n",
    "        \n",
    "cap.release()\n",
    "cv.destroyAllWindows()"
   ]
  },
  {
   "cell_type": "code",
   "execution_count": null,
   "id": "f09c80ee",
   "metadata": {},
   "outputs": [],
   "source": []
  }
 ],
 "metadata": {
  "kernelspec": {
   "display_name": "Python 3 (ipykernel)",
   "language": "python",
   "name": "python3"
  },
  "language_info": {
   "codemirror_mode": {
    "name": "ipython",
    "version": 3
   },
   "file_extension": ".py",
   "mimetype": "text/x-python",
   "name": "python",
   "nbconvert_exporter": "python",
   "pygments_lexer": "ipython3",
   "version": "3.11.5"
  }
 },
 "nbformat": 4,
 "nbformat_minor": 5
}
