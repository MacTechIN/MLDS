{
 "cells": [
  {
   "cell_type": "code",
   "execution_count": 9,
   "id": "5d718c55",
   "metadata": {},
   "outputs": [],
   "source": [
    "import pandas as pd \n",
    "import numpy as np \n",
    "import random\n",
    "import tensorflow as tf"
   ]
  },
  {
   "cell_type": "code",
   "execution_count": 12,
   "id": "c1cfc8d0",
   "metadata": {},
   "outputs": [
    {
     "name": "stdout",
     "output_type": "stream",
     "text": [
      "시드 고정 :  12\n"
     ]
    }
   ],
   "source": [
    "SEED = 12 \n",
    "random.seed(SEED)\n",
    "np.random.seed(SEED)\n",
    "tf.random.set_seed(SEED)\n",
    "print('시드 고정 : ', SEED) # "
   ]
  },
  {
   "cell_type": "code",
   "execution_count": 41,
   "id": "f118d0d2",
   "metadata": {},
   "outputs": [],
   "source": [
    "train = pd.read_csv(\"./wine_train.csv\")\n",
    "test = pd.read_csv(\"./wine_test.csv\")\n",
    "submission=pd.read_csv(\"./wine_sample_submission.csv\")"
   ]
  },
  {
   "cell_type": "markdown",
   "id": "ba94d524",
   "metadata": {},
   "source": [
    "## 데이터 전처리 "
   ]
  },
  {
   "cell_type": "code",
   "execution_count": 42,
   "id": "f4653732",
   "metadata": {},
   "outputs": [
    {
     "data": {
      "text/plain": [
       "0       5\n",
       "1       5\n",
       "2       5\n",
       "3       6\n",
       "4       6\n",
       "       ..\n",
       "5492    5\n",
       "5493    6\n",
       "5494    7\n",
       "5495    5\n",
       "5496    6\n",
       "Name: quality, Length: 5497, dtype: int64"
      ]
     },
     "execution_count": 42,
     "metadata": {},
     "output_type": "execute_result"
    }
   ],
   "source": [
    "train['quality']"
   ]
  },
  {
   "cell_type": "code",
   "execution_count": 43,
   "id": "58b54f64",
   "metadata": {},
   "outputs": [
    {
     "data": {
      "text/plain": [
       "type\n",
       "white    4159\n",
       "red      1338\n",
       "Name: count, dtype: int64"
      ]
     },
     "execution_count": 43,
     "metadata": {},
     "output_type": "execute_result"
    }
   ],
   "source": [
    "train['type'].value_counts()"
   ]
  },
  {
   "cell_type": "code",
   "execution_count": 44,
   "id": "4016294f",
   "metadata": {},
   "outputs": [
    {
     "data": {
      "text/html": [
       "<div>\n",
       "<style scoped>\n",
       "    .dataframe tbody tr th:only-of-type {\n",
       "        vertical-align: middle;\n",
       "    }\n",
       "\n",
       "    .dataframe tbody tr th {\n",
       "        vertical-align: top;\n",
       "    }\n",
       "\n",
       "    .dataframe thead th {\n",
       "        text-align: right;\n",
       "    }\n",
       "</style>\n",
       "<table border=\"1\" class=\"dataframe\">\n",
       "  <thead>\n",
       "    <tr style=\"text-align: right;\">\n",
       "      <th></th>\n",
       "      <th>index</th>\n",
       "      <th>quality</th>\n",
       "    </tr>\n",
       "  </thead>\n",
       "  <tbody>\n",
       "    <tr>\n",
       "      <th>0</th>\n",
       "      <td>0</td>\n",
       "      <td>0</td>\n",
       "    </tr>\n",
       "    <tr>\n",
       "      <th>1</th>\n",
       "      <td>1</td>\n",
       "      <td>0</td>\n",
       "    </tr>\n",
       "    <tr>\n",
       "      <th>2</th>\n",
       "      <td>2</td>\n",
       "      <td>0</td>\n",
       "    </tr>\n",
       "    <tr>\n",
       "      <th>3</th>\n",
       "      <td>3</td>\n",
       "      <td>0</td>\n",
       "    </tr>\n",
       "    <tr>\n",
       "      <th>4</th>\n",
       "      <td>4</td>\n",
       "      <td>0</td>\n",
       "    </tr>\n",
       "  </tbody>\n",
       "</table>\n",
       "</div>"
      ],
      "text/plain": [
       "   index  quality\n",
       "0      0        0\n",
       "1      1        0\n",
       "2      2        0\n",
       "3      3        0\n",
       "4      4        0"
      ]
     },
     "execution_count": 44,
     "metadata": {},
     "output_type": "execute_result"
    }
   ],
   "source": [
    "submission.head()"
   ]
  },
  {
   "cell_type": "code",
   "execution_count": 45,
   "id": "ebd1b86b",
   "metadata": {},
   "outputs": [],
   "source": [
    "train['type'] = np.where(train['type']=='white',1,0 ).astype(int)\n",
    "test['type'] = np.where(test['type']=='white' ,1,0).astype(int)"
   ]
  },
  {
   "cell_type": "code",
   "execution_count": 47,
   "id": "df405355",
   "metadata": {},
   "outputs": [
    {
     "data": {
      "text/plain": [
       "type\n",
       "1    4159\n",
       "0    1338\n",
       "Name: count, dtype: int64"
      ]
     },
     "execution_count": 47,
     "metadata": {},
     "output_type": "execute_result"
    }
   ],
   "source": [
    "train['type'].value_counts()"
   ]
  },
  {
   "cell_type": "code",
   "execution_count": 51,
   "id": "c8263c94",
   "metadata": {},
   "outputs": [
    {
     "data": {
      "text/plain": [
       "quality\n",
       "6    2416\n",
       "5    1788\n",
       "7     924\n",
       "4     186\n",
       "8     152\n",
       "3      26\n",
       "9       5\n",
       "Name: count, dtype: int64"
      ]
     },
     "execution_count": 51,
     "metadata": {},
     "output_type": "execute_result"
    }
   ],
   "source": [
    "train ['quality'].value_counts()"
   ]
  },
  {
   "cell_type": "code",
   "execution_count": 52,
   "id": "20a2b6bf",
   "metadata": {},
   "outputs": [],
   "source": [
    "from tensorflow.keras.utils import to_categorical\n",
    "\n"
   ]
  },
  {
   "cell_type": "code",
   "execution_count": 53,
   "id": "a6cbfbad",
   "metadata": {},
   "outputs": [],
   "source": [
    "y_train = to_categorical(train.loc[:,'quality']-3)"
   ]
  },
  {
   "cell_type": "code",
   "execution_count": 56,
   "id": "fcf02ec8",
   "metadata": {},
   "outputs": [
    {
     "data": {
      "text/plain": [
       "array([[0., 0., 1., ..., 0., 0., 0.],\n",
       "       [0., 0., 1., ..., 0., 0., 0.],\n",
       "       [0., 0., 1., ..., 0., 0., 0.],\n",
       "       ...,\n",
       "       [0., 0., 0., ..., 1., 0., 0.],\n",
       "       [0., 0., 1., ..., 0., 0., 0.],\n",
       "       [0., 0., 0., ..., 0., 0., 0.]], dtype=float32)"
      ]
     },
     "execution_count": 56,
     "metadata": {},
     "output_type": "execute_result"
    }
   ],
   "source": [
    "y_train"
   ]
  },
  {
   "cell_type": "code",
   "execution_count": 59,
   "id": "061937f2",
   "metadata": {},
   "outputs": [],
   "source": [
    "X_train = train.loc[:, 'fixed acidity':]\n",
    "X_test = test.loc[:, 'fixed acidity':]"
   ]
  },
  {
   "cell_type": "code",
   "execution_count": 60,
   "id": "f90a2f3b",
   "metadata": {},
   "outputs": [
    {
     "name": "stdout",
     "output_type": "stream",
     "text": [
      "      fixed acidity  volatile acidity  citric acid  residual sugar  chlorides  \\\n",
      "0               5.6             0.695         0.06             6.8      0.042   \n",
      "1               8.8             0.610         0.14             2.4      0.067   \n",
      "2               7.9             0.210         0.39             2.0      0.057   \n",
      "3               7.0             0.210         0.31             6.0      0.046   \n",
      "4               7.8             0.400         0.26             9.5      0.059   \n",
      "...             ...               ...          ...             ...        ...   \n",
      "5492            7.7             0.150         0.29             1.3      0.029   \n",
      "5493            6.3             0.180         0.36             1.2      0.034   \n",
      "5494            7.8             0.150         0.34             1.1      0.035   \n",
      "5495            6.6             0.410         0.31             1.6      0.042   \n",
      "5496            7.0             0.350         0.17             1.1      0.049   \n",
      "\n",
      "      free sulfur dioxide  total sulfur dioxide  density    pH  sulphates  \\\n",
      "0                     9.0                  84.0  0.99432  3.44       0.44   \n",
      "1                    10.0                  42.0  0.99690  3.19       0.59   \n",
      "2                    21.0                 138.0  0.99176  3.05       0.52   \n",
      "3                    29.0                 108.0  0.99390  3.26       0.50   \n",
      "4                    32.0                 178.0  0.99550  3.04       0.43   \n",
      "...                   ...                   ...      ...   ...        ...   \n",
      "5492                 10.0                  64.0  0.99320  3.35       0.39   \n",
      "5493                 26.0                 111.0  0.99074  3.16       0.51   \n",
      "5494                 31.0                  93.0  0.99096  3.07       0.72   \n",
      "5495                 18.0                 101.0  0.99195  3.13       0.41   \n",
      "5496                  7.0                 119.0  0.99297  3.13       0.36   \n",
      "\n",
      "      alcohol  type  \n",
      "0        10.2     1  \n",
      "1         9.5     0  \n",
      "2        10.9     1  \n",
      "3        10.8     1  \n",
      "4        10.9     1  \n",
      "...       ...   ...  \n",
      "5492     10.1     1  \n",
      "5493     11.0     1  \n",
      "5494     11.3     1  \n",
      "5495     10.5     1  \n",
      "5496      9.7     1  \n",
      "\n",
      "[5497 rows x 12 columns]      fixed acidity  volatile acidity  citric acid  residual sugar  chlorides  \\\n",
      "0              9.0              0.31         0.48            6.60      0.043   \n",
      "1             13.3              0.43         0.58            1.90      0.070   \n",
      "2              6.5              0.28         0.27            5.20      0.040   \n",
      "3              7.2              0.15         0.39            1.80      0.043   \n",
      "4              6.8              0.26         0.26            2.00      0.019   \n",
      "..             ...               ...          ...             ...        ...   \n",
      "995            7.1              0.59         0.02            2.30      0.082   \n",
      "996            8.7              0.15         0.30            1.60      0.046   \n",
      "997            8.8              0.66         0.26            1.70      0.074   \n",
      "998            7.0              0.42         0.19            2.30      0.071   \n",
      "999            8.5              0.21         0.26            9.25      0.034   \n",
      "\n",
      "     free sulfur dioxide  total sulfur dioxide  density    pH  sulphates  \\\n",
      "0                   11.0                  73.0  0.99380  2.90       0.38   \n",
      "1                   15.0                  40.0  1.00040  3.06       0.49   \n",
      "2                   44.0                 179.0  0.99480  3.19       0.69   \n",
      "3                   21.0                 159.0  0.99480  3.52       0.47   \n",
      "4                   23.5                  72.0  0.99041  3.16       0.47   \n",
      "..                   ...                   ...      ...   ...        ...   \n",
      "995                 24.0                  94.0  0.99744  3.55       0.53   \n",
      "996                 29.0                 130.0  0.99420  3.22       0.38   \n",
      "997                  4.0                  23.0  0.99710  3.15       0.74   \n",
      "998                 18.0                  36.0  0.99476  3.39       0.56   \n",
      "999                 73.0                 142.0  0.99450  3.05       0.37   \n",
      "\n",
      "     alcohol  type  \n",
      "0       11.6     1  \n",
      "1        9.0     0  \n",
      "2        9.4     1  \n",
      "3       10.0     1  \n",
      "4       11.8     1  \n",
      "..       ...   ...  \n",
      "995      9.7     0  \n",
      "996      9.8     1  \n",
      "997      9.2     0  \n",
      "998     10.9     0  \n",
      "999     11.4     1  \n",
      "\n",
      "[1000 rows x 12 columns]\n"
     ]
    }
   ],
   "source": [
    "print(X_train, X_test)"
   ]
  },
  {
   "cell_type": "code",
   "execution_count": 61,
   "id": "308731e0",
   "metadata": {},
   "outputs": [
    {
     "name": "stdout",
     "output_type": "stream",
     "text": [
      "(5497, 12) (5497, 7)\n",
      "(1000, 12)\n"
     ]
    }
   ],
   "source": [
    "# 피처 선택\n",
    "X_train = train.loc[:, 'fixed acidity':]\n",
    "X_test = test.loc[:, 'fixed acidity':]\n",
    "\n",
    "# 피처 스케일링\n",
    "from sklearn.preprocessing import MinMaxScaler\n",
    "scaler=MinMaxScaler()\n",
    "scaler.fit(X_train)\n",
    "X_train_scaled = scaler.fit_transform(X_train)\n",
    "X_test_scaled = scaler.fit_transform(X_test)\n",
    "\n",
    "print(X_train_scaled.shape, y_train.shape)\n",
    "print(X_test_scaled.shape)"
   ]
  },
  {
   "cell_type": "code",
   "execution_count": 62,
   "id": "ea3aea86",
   "metadata": {},
   "outputs": [],
   "source": [
    "from tensorflow.keras import Sequential\n",
    "from tensorflow.keras.layers import Dense, Dropout"
   ]
  },
  {
   "cell_type": "code",
   "execution_count": 73,
   "id": "9f17ab62",
   "metadata": {},
   "outputs": [],
   "source": [
    "def add (x,y):\n",
    "    a = x + y\n",
    "    return a \n"
   ]
  },
  {
   "cell_type": "code",
   "execution_count": 70,
   "id": "b71f3824",
   "metadata": {},
   "outputs": [
    {
     "name": "stdout",
     "output_type": "stream",
     "text": [
      "3\n"
     ]
    }
   ],
   "source": [
    "print(add (1,2))"
   ]
  },
  {
   "cell_type": "code",
   "execution_count": 74,
   "id": "2d076269",
   "metadata": {},
   "outputs": [],
   "source": [
    "add(1,2)"
   ]
  },
  {
   "cell_type": "code",
   "execution_count": 75,
   "id": "de136aaf",
   "metadata": {},
   "outputs": [
    {
     "name": "stdout",
     "output_type": "stream",
     "text": [
      "3\n"
     ]
    }
   ],
   "source": [
    "print(a)"
   ]
  },
  {
   "cell_type": "code",
   "execution_count": 76,
   "id": "29891455",
   "metadata": {},
   "outputs": [
    {
     "ename": "SyntaxError",
     "evalue": "invalid syntax. Maybe you meant '==' or ':=' instead of '='? (3634943305.py, line 3)",
     "output_type": "error",
     "traceback": [
      "\u001b[0;36m  Cell \u001b[0;32mIn[76], line 3\u001b[0;36m\u001b[0m\n\u001b[0;31m    a = x + y\u001b[0m\n\u001b[0m    ^\u001b[0m\n\u001b[0;31mSyntaxError\u001b[0m\u001b[0;31m:\u001b[0m invalid syntax. Maybe you meant '==' or ':=' instead of '='?\n"
     ]
    }
   ],
   "source": [
    "add(x, y) \n",
    "{\n",
    "a = x + y\n",
    "return a \n",
    "}\n",
    "\n",
    "result = addmul(10,20)"
   ]
  },
  {
   "cell_type": "code",
   "execution_count": null,
   "id": "369f2982",
   "metadata": {},
   "outputs": [],
   "source": []
  }
 ],
 "metadata": {
  "kernelspec": {
   "display_name": "Python 3 (ipykernel)",
   "language": "python",
   "name": "python3"
  },
  "language_info": {
   "codemirror_mode": {
    "name": "ipython",
    "version": 3
   },
   "file_extension": ".py",
   "mimetype": "text/x-python",
   "name": "python",
   "nbconvert_exporter": "python",
   "pygments_lexer": "ipython3",
   "version": "3.11.5"
  }
 },
 "nbformat": 4,
 "nbformat_minor": 5
}
