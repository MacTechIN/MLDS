{
 "cells": [
  {
   "cell_type": "code",
   "execution_count": 1,
   "id": "1ce0467c",
   "metadata": {},
   "outputs": [],
   "source": [
    "#라이브러리 불러온다\n",
    "\n",
    "import pandas as pd "
   ]
  },
  {
   "cell_type": "code",
   "execution_count": 2,
   "id": "60d63c42",
   "metadata": {},
   "outputs": [
    {
     "data": {
      "text/plain": [
       "'2.0.3'"
      ]
     },
     "execution_count": 2,
     "metadata": {},
     "output_type": "execute_result"
    }
   ],
   "source": [
    "pd.__version__"
   ]
  },
  {
   "cell_type": "code",
   "execution_count": null,
   "id": "991cf13f",
   "metadata": {},
   "outputs": [],
   "source": [
    "# Conda prompt , Terminal 통해 업그레이드 \n",
    "\n",
    "#!pip install pandas --upgrade "
   ]
  },
  {
   "cell_type": "code",
   "execution_count": 2,
   "id": "4ba05524",
   "metadata": {},
   "outputs": [
    {
     "data": {
      "text/plain": [
       "'2.1.1'"
      ]
     },
     "execution_count": 2,
     "metadata": {},
     "output_type": "execute_result"
    }
   ],
   "source": [
    "pd.__version__"
   ]
  },
  {
   "cell_type": "markdown",
   "id": "69566cd7",
   "metadata": {},
   "source": [
    "# 데이터 프레임 과 시리즈 구조 이해 "
   ]
  },
  {
   "cell_type": "markdown",
   "id": "6c69ee85",
   "metadata": {},
   "source": [
    "## 데이터 생성 "
   ]
  },
  {
   "cell_type": "code",
   "execution_count": 4,
   "id": "272de6ca",
   "metadata": {},
   "outputs": [],
   "source": [
    "document = [\"데이터 조작을 용이하게 하기\", \"위해 다차원 배열에 인덱스를\", \"지정한 자료구조를\", \"정의하고 정렬\", \"변환\", \"삭제 등을\", \"할 수 있는\", \"메서드를 제공\"]"
   ]
  },
  {
   "cell_type": "code",
   "execution_count": 9,
   "id": "c9cecd16",
   "metadata": {},
   "outputs": [],
   "source": [
    "sr = pd.Series(document)"
   ]
  },
  {
   "cell_type": "code",
   "execution_count": 40,
   "id": "89cfd636",
   "metadata": {},
   "outputs": [],
   "source": [
    "# 컬럼명 변경 하여 생성하기 \n",
    "df = pd.DataFrame(document ,columns=['문서']) "
   ]
  },
  {
   "cell_type": "code",
   "execution_count": 41,
   "id": "c3c8cc39",
   "metadata": {},
   "outputs": [
    {
     "data": {
      "text/plain": [
       "(8, 1)"
      ]
     },
     "execution_count": 41,
     "metadata": {},
     "output_type": "execute_result"
    }
   ],
   "source": [
    "# 행 열 \n",
    "df.shape"
   ]
  },
  {
   "cell_type": "code",
   "execution_count": 42,
   "id": "150e088b",
   "metadata": {},
   "outputs": [
    {
     "name": "stdout",
     "output_type": "stream",
     "text": [
      "<class 'pandas.core.frame.DataFrame'>\n",
      "RangeIndex: 8 entries, 0 to 7\n",
      "Data columns (total 1 columns):\n",
      " #   Column  Non-Null Count  Dtype \n",
      "---  ------  --------------  ----- \n",
      " 0   문서      8 non-null      object\n",
      "dtypes: object(1)\n",
      "memory usage: 196.0+ bytes\n"
     ]
    }
   ],
   "source": [
    "df.info()"
   ]
  },
  {
   "cell_type": "markdown",
   "id": "32874ae3",
   "metadata": {},
   "source": [
    "## 데이터 프레임"
   ]
  },
  {
   "cell_type": "code",
   "execution_count": 43,
   "id": "9ccf4564",
   "metadata": {},
   "outputs": [],
   "source": [
    "# 문의날짜 [컬럼]열 생성 하기 \n",
    "df[\"날짜\"] = '2022-05-01'"
   ]
  },
  {
   "cell_type": "code",
   "execution_count": 15,
   "id": "9ad1357e",
   "metadata": {},
   "outputs": [
    {
     "data": {
      "text/html": [
       "<div>\n",
       "<style scoped>\n",
       "    .dataframe tbody tr th:only-of-type {\n",
       "        vertical-align: middle;\n",
       "    }\n",
       "\n",
       "    .dataframe tbody tr th {\n",
       "        vertical-align: top;\n",
       "    }\n",
       "\n",
       "    .dataframe thead th {\n",
       "        text-align: right;\n",
       "    }\n",
       "</style>\n",
       "<table border=\"1\" class=\"dataframe\">\n",
       "  <thead>\n",
       "    <tr style=\"text-align: right;\">\n",
       "      <th></th>\n",
       "      <th>문서</th>\n",
       "      <th>날짜</th>\n",
       "    </tr>\n",
       "  </thead>\n",
       "  <tbody>\n",
       "    <tr>\n",
       "      <th>0</th>\n",
       "      <td>데이터 조작을 용이하게 하기</td>\n",
       "      <td>2022-05-01</td>\n",
       "    </tr>\n",
       "    <tr>\n",
       "      <th>1</th>\n",
       "      <td>위해 다차원 배열에 인덱스를</td>\n",
       "      <td>2022-05-01</td>\n",
       "    </tr>\n",
       "    <tr>\n",
       "      <th>2</th>\n",
       "      <td>지정한 자료구조를</td>\n",
       "      <td>2022-05-01</td>\n",
       "    </tr>\n",
       "    <tr>\n",
       "      <th>3</th>\n",
       "      <td>정의하고 정렬</td>\n",
       "      <td>2022-05-01</td>\n",
       "    </tr>\n",
       "    <tr>\n",
       "      <th>4</th>\n",
       "      <td>변환</td>\n",
       "      <td>2022-05-01</td>\n",
       "    </tr>\n",
       "    <tr>\n",
       "      <th>5</th>\n",
       "      <td>삭제 등을</td>\n",
       "      <td>2022-05-01</td>\n",
       "    </tr>\n",
       "    <tr>\n",
       "      <th>6</th>\n",
       "      <td>할 수 있는</td>\n",
       "      <td>2022-05-01</td>\n",
       "    </tr>\n",
       "    <tr>\n",
       "      <th>7</th>\n",
       "      <td>메서드를 제공</td>\n",
       "      <td>2022-05-01</td>\n",
       "    </tr>\n",
       "  </tbody>\n",
       "</table>\n",
       "</div>"
      ],
      "text/plain": [
       "                문서          날짜\n",
       "0  데이터 조작을 용이하게 하기  2022-05-01\n",
       "1  위해 다차원 배열에 인덱스를  2022-05-01\n",
       "2        지정한 자료구조를  2022-05-01\n",
       "3          정의하고 정렬  2022-05-01\n",
       "4               변환  2022-05-01\n",
       "5            삭제 등을  2022-05-01\n",
       "6           할 수 있는  2022-05-01\n",
       "7          메서드를 제공  2022-05-01"
      ]
     },
     "execution_count": 15,
     "metadata": {},
     "output_type": "execute_result"
    }
   ],
   "source": [
    "# Section : 특정 행 , 열 선택하기 \n",
    "df"
   ]
  },
  {
   "cell_type": "code",
   "execution_count": 16,
   "id": "89fef095",
   "metadata": {},
   "outputs": [
    {
     "data": {
      "text/plain": [
       "0    데이터 조작을 용이하게 하기\n",
       "1    위해 다차원 배열에 인덱스를\n",
       "2          지정한 자료구조를\n",
       "3            정의하고 정렬\n",
       "4                 변환\n",
       "5              삭제 등을\n",
       "6             할 수 있는\n",
       "7            메서드를 제공\n",
       "Name: 문서, dtype: object"
      ]
     },
     "execution_count": 16,
     "metadata": {},
     "output_type": "execute_result"
    }
   ],
   "source": [
    "df['문서'] # 문사를 열 을 가지고 온다. => 시리즈 타입 "
   ]
  },
  {
   "cell_type": "code",
   "execution_count": 19,
   "id": "9fe2ccbb",
   "metadata": {},
   "outputs": [
    {
     "data": {
      "text/html": [
       "<div>\n",
       "<style scoped>\n",
       "    .dataframe tbody tr th:only-of-type {\n",
       "        vertical-align: middle;\n",
       "    }\n",
       "\n",
       "    .dataframe tbody tr th {\n",
       "        vertical-align: top;\n",
       "    }\n",
       "\n",
       "    .dataframe thead th {\n",
       "        text-align: right;\n",
       "    }\n",
       "</style>\n",
       "<table border=\"1\" class=\"dataframe\">\n",
       "  <thead>\n",
       "    <tr style=\"text-align: right;\">\n",
       "      <th></th>\n",
       "      <th>날짜</th>\n",
       "      <th>문서</th>\n",
       "    </tr>\n",
       "  </thead>\n",
       "  <tbody>\n",
       "    <tr>\n",
       "      <th>0</th>\n",
       "      <td>2022-05-01</td>\n",
       "      <td>데이터 조작을 용이하게 하기</td>\n",
       "    </tr>\n",
       "    <tr>\n",
       "      <th>1</th>\n",
       "      <td>2022-05-01</td>\n",
       "      <td>위해 다차원 배열에 인덱스를</td>\n",
       "    </tr>\n",
       "    <tr>\n",
       "      <th>2</th>\n",
       "      <td>2022-05-01</td>\n",
       "      <td>지정한 자료구조를</td>\n",
       "    </tr>\n",
       "    <tr>\n",
       "      <th>3</th>\n",
       "      <td>2022-05-01</td>\n",
       "      <td>정의하고 정렬</td>\n",
       "    </tr>\n",
       "    <tr>\n",
       "      <th>4</th>\n",
       "      <td>2022-05-01</td>\n",
       "      <td>변환</td>\n",
       "    </tr>\n",
       "    <tr>\n",
       "      <th>5</th>\n",
       "      <td>2022-05-01</td>\n",
       "      <td>삭제 등을</td>\n",
       "    </tr>\n",
       "    <tr>\n",
       "      <th>6</th>\n",
       "      <td>2022-05-01</td>\n",
       "      <td>할 수 있는</td>\n",
       "    </tr>\n",
       "    <tr>\n",
       "      <th>7</th>\n",
       "      <td>2022-05-01</td>\n",
       "      <td>메서드를 제공</td>\n",
       "    </tr>\n",
       "  </tbody>\n",
       "</table>\n",
       "</div>"
      ],
      "text/plain": [
       "           날짜               문서\n",
       "0  2022-05-01  데이터 조작을 용이하게 하기\n",
       "1  2022-05-01  위해 다차원 배열에 인덱스를\n",
       "2  2022-05-01        지정한 자료구조를\n",
       "3  2022-05-01          정의하고 정렬\n",
       "4  2022-05-01               변환\n",
       "5  2022-05-01            삭제 등을\n",
       "6  2022-05-01           할 수 있는\n",
       "7  2022-05-01          메서드를 제공"
      ]
     },
     "execution_count": 19,
     "metadata": {},
     "output_type": "execute_result"
    }
   ],
   "source": [
    "df[['날짜','문서']] # [이차원으로] 입력 시 특정 행을 가지고옴 "
   ]
  },
  {
   "cell_type": "code",
   "execution_count": 20,
   "id": "7e708a24",
   "metadata": {},
   "outputs": [
    {
     "data": {
      "text/plain": [
       "문서    데이터 조작을 용이하게 하기\n",
       "날짜         2022-05-01\n",
       "Name: 0, dtype: object"
      ]
     },
     "execution_count": 20,
     "metadata": {},
     "output_type": "execute_result"
    }
   ],
   "source": [
    "#행 데이터 가지고 오기 \n",
    "\n",
    "df.loc[0]"
   ]
  },
  {
   "cell_type": "code",
   "execution_count": 35,
   "id": "0a4545a9",
   "metadata": {},
   "outputs": [
    {
     "data": {
      "text/html": [
       "<div>\n",
       "<style scoped>\n",
       "    .dataframe tbody tr th:only-of-type {\n",
       "        vertical-align: middle;\n",
       "    }\n",
       "\n",
       "    .dataframe tbody tr th {\n",
       "        vertical-align: top;\n",
       "    }\n",
       "\n",
       "    .dataframe thead th {\n",
       "        text-align: right;\n",
       "    }\n",
       "</style>\n",
       "<table border=\"1\" class=\"dataframe\">\n",
       "  <thead>\n",
       "    <tr style=\"text-align: right;\">\n",
       "      <th></th>\n",
       "      <th>문서</th>\n",
       "      <th>날짜</th>\n",
       "    </tr>\n",
       "  </thead>\n",
       "  <tbody>\n",
       "    <tr>\n",
       "      <th>0</th>\n",
       "      <td>데이터 조작을 용이하게 하기</td>\n",
       "      <td>2022-05-01</td>\n",
       "    </tr>\n",
       "  </tbody>\n",
       "</table>\n",
       "</div>"
      ],
      "text/plain": [
       "                문서          날짜\n",
       "0  데이터 조작을 용이하게 하기  2022-05-01"
      ]
     },
     "execution_count": 35,
     "metadata": {},
     "output_type": "execute_result"
    }
   ],
   "source": [
    "df.loc[[0]] # 행 전체 열을 가지고옴 "
   ]
  },
  {
   "cell_type": "code",
   "execution_count": 36,
   "id": "f0ac1553",
   "metadata": {},
   "outputs": [
    {
     "data": {
      "text/plain": [
       "'2022-05-01'"
      ]
     },
     "execution_count": 36,
     "metadata": {},
     "output_type": "execute_result"
    }
   ],
   "source": [
    "# 특정 데이터 선택하기\n",
    "df.loc[0,'날짜'] # 0열의 날짜행 을 선택하기  "
   ]
  },
  {
   "cell_type": "code",
   "execution_count": 38,
   "id": "929df5d9",
   "metadata": {},
   "outputs": [
    {
     "data": {
      "text/plain": [
       "'위해 다차원 배열에 인덱스를'"
      ]
     },
     "execution_count": 38,
     "metadata": {},
     "output_type": "execute_result"
    }
   ],
   "source": [
    "# 특정 데이터 선택하기\n",
    "df.at[1,'문서']"
   ]
  },
  {
   "cell_type": "code",
   "execution_count": 30,
   "id": "e0a6f264",
   "metadata": {},
   "outputs": [
    {
     "data": {
      "text/plain": [
       "'2022-05-01'"
      ]
     },
     "execution_count": 30,
     "metadata": {},
     "output_type": "execute_result"
    }
   ],
   "source": [
    "df.iat[1,1]"
   ]
  },
  {
   "cell_type": "code",
   "execution_count": 32,
   "id": "4bfa1c40",
   "metadata": {},
   "outputs": [
    {
     "data": {
      "text/plain": [
       "'위해 다차원 배열에 인덱스를'"
      ]
     },
     "execution_count": 32,
     "metadata": {},
     "output_type": "execute_result"
    }
   ],
   "source": [
    "df.iloc[1,0] # 순서대로 가지고 온다. "
   ]
  },
  {
   "cell_type": "code",
   "execution_count": 48,
   "id": "a5a98ab6",
   "metadata": {},
   "outputs": [],
   "source": [
    "# 판다스에서 소스 코드 보기 \n",
    "\n",
    "df.head??\n",
    "\n",
    "# > self.iloc[:n] 를 사용한다. "
   ]
  },
  {
   "cell_type": "markdown",
   "id": "6250e068",
   "metadata": {},
   "source": [
    "## 문자열 다루기 "
   ]
  },
  {
   "cell_type": "code",
   "execution_count": null,
   "id": "22dd3fcc",
   "metadata": {},
   "outputs": [],
   "source": []
  },
  {
   "cell_type": "code",
   "execution_count": null,
   "id": "88dc26d5",
   "metadata": {},
   "outputs": [],
   "source": []
  },
  {
   "cell_type": "code",
   "execution_count": null,
   "id": "b29ce284",
   "metadata": {},
   "outputs": [],
   "source": []
  },
  {
   "cell_type": "code",
   "execution_count": null,
   "id": "52f56185",
   "metadata": {},
   "outputs": [],
   "source": []
  },
  {
   "cell_type": "code",
   "execution_count": null,
   "id": "2ba03236",
   "metadata": {},
   "outputs": [],
   "source": []
  },
  {
   "cell_type": "code",
   "execution_count": null,
   "id": "88b0cf52",
   "metadata": {},
   "outputs": [],
   "source": []
  }
 ],
 "metadata": {
  "kernelspec": {
   "display_name": "Python 3 (ipykernel)",
   "language": "python",
   "name": "python3"
  },
  "language_info": {
   "codemirror_mode": {
    "name": "ipython",
    "version": 3
   },
   "file_extension": ".py",
   "mimetype": "text/x-python",
   "name": "python",
   "nbconvert_exporter": "python",
   "pygments_lexer": "ipython3",
   "version": "3.11.5"
  }
 },
 "nbformat": 4,
 "nbformat_minor": 5
}
