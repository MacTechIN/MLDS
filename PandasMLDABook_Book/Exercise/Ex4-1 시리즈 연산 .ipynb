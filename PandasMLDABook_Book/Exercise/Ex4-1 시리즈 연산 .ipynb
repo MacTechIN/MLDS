{
 "cells": [
  {
   "cell_type": "code",
   "execution_count": 1,
   "id": "fa991013",
   "metadata": {},
   "outputs": [],
   "source": [
    "import pandas as pd"
   ]
  },
  {
   "cell_type": "code",
   "execution_count": 2,
   "id": "eb08677b",
   "metadata": {},
   "outputs": [],
   "source": [
    "student1 = pd.Series({'국어':100, \"영어\": 80 , \"수학\": 90})"
   ]
  },
  {
   "cell_type": "code",
   "execution_count": 3,
   "id": "c7ecf2ff",
   "metadata": {},
   "outputs": [
    {
     "name": "stdout",
     "output_type": "stream",
     "text": [
      "국어    100\n",
      "영어     80\n",
      "수학     90\n",
      "dtype: int64\n"
     ]
    }
   ],
   "source": [
    "print(student1)"
   ]
  },
  {
   "cell_type": "code",
   "execution_count": 9,
   "id": "02692a66",
   "metadata": {},
   "outputs": [
    {
     "data": {
      "text/plain": [
       "3"
      ]
     },
     "execution_count": 9,
     "metadata": {},
     "output_type": "execute_result"
    }
   ],
   "source": [
    "len(student1)"
   ]
  },
  {
   "cell_type": "code",
   "execution_count": 12,
   "id": "3eb58147",
   "metadata": {},
   "outputs": [
    {
     "data": {
      "text/plain": [
       "국어    0.50\n",
       "영어    0.40\n",
       "수학    0.45\n",
       "dtype: float64"
      ]
     },
     "execution_count": 12,
     "metadata": {},
     "output_type": "execute_result"
    }
   ],
   "source": [
    "student1/200"
   ]
  },
  {
   "cell_type": "markdown",
   "id": "180e6793",
   "metadata": {},
   "source": [
    "__시리즈 대 시리즈 연산__ "
   ]
  },
  {
   "cell_type": "code",
   "execution_count": 15,
   "id": "5dfb3b66",
   "metadata": {},
   "outputs": [],
   "source": [
    "student2 = pd.Series({'수학':80, '국어':90, '영어':80})\n"
   ]
  },
  {
   "cell_type": "code",
   "execution_count": 16,
   "id": "25d9c81f",
   "metadata": {},
   "outputs": [
    {
     "name": "stdout",
     "output_type": "stream",
     "text": [
      "국어    100\n",
      "영어     80\n",
      "수학     90\n",
      "dtype: int64\n",
      "수학    80\n",
      "국어    90\n",
      "영어    80\n",
      "dtype: int64\n"
     ]
    }
   ],
   "source": [
    "print(student1)\n",
    "print(student2)"
   ]
  },
  {
   "cell_type": "code",
   "execution_count": 17,
   "id": "d9e21229",
   "metadata": {},
   "outputs": [],
   "source": [
    "add = student1 + student2\n",
    "sub = student1 - student2"
   ]
  },
  {
   "cell_type": "code",
   "execution_count": 20,
   "id": "c993a9ec",
   "metadata": {},
   "outputs": [],
   "source": [
    "mul = student1 * student2\n",
    "div = student1 / student2"
   ]
  },
  {
   "cell_type": "code",
   "execution_count": 21,
   "id": "24190067",
   "metadata": {},
   "outputs": [
    {
     "name": "stdout",
     "output_type": "stream",
     "text": [
      "<class 'pandas.core.series.Series'>\n"
     ]
    }
   ],
   "source": [
    "print(type(div))"
   ]
  },
  {
   "cell_type": "code",
   "execution_count": 22,
   "id": "dca303e0",
   "metadata": {},
   "outputs": [],
   "source": [
    "result = pd.DataFrame([add,sub,mul,div],index=['더하기','빼기','곱하기','나누기'])"
   ]
  },
  {
   "cell_type": "code",
   "execution_count": 23,
   "id": "3114789b",
   "metadata": {},
   "outputs": [
    {
     "name": "stdout",
     "output_type": "stream",
     "text": [
      "              국어        수학      영어\n",
      "더하기   190.000000   170.000   160.0\n",
      "빼기     10.000000    10.000     0.0\n",
      "곱하기  9000.000000  7200.000  6400.0\n",
      "나누기     1.111111     1.125     1.0\n"
     ]
    }
   ],
   "source": [
    "print(result)"
   ]
  },
  {
   "cell_type": "code",
   "execution_count": null,
   "id": "3b4b78be",
   "metadata": {},
   "outputs": [],
   "source": []
  }
 ],
 "metadata": {
  "kernelspec": {
   "display_name": "Python 3 (ipykernel)",
   "language": "python",
   "name": "python3"
  },
  "language_info": {
   "codemirror_mode": {
    "name": "ipython",
    "version": 3
   },
   "file_extension": ".py",
   "mimetype": "text/x-python",
   "name": "python",
   "nbconvert_exporter": "python",
   "pygments_lexer": "ipython3",
   "version": "3.10.13"
  }
 },
 "nbformat": 4,
 "nbformat_minor": 5
}
