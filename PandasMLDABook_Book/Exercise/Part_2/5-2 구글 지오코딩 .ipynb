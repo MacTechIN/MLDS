{
 "cells": [
  {
   "cell_type": "code",
   "execution_count": 17,
   "id": "4083032e",
   "metadata": {},
   "outputs": [],
   "source": [
    "import googlemaps\n",
    "import pandas as pd\n",
    "\n",
    "\n",
    "my_key = \"apikey\"\n",
    "\n",
    "# 구글맵스 객체 생성하기\n",
    "maps = googlemaps.Client(key=my_key)"
   ]
  },
  {
   "cell_type": "code",
   "execution_count": 18,
   "id": "8be3cc98",
   "metadata": {},
   "outputs": [
    {
     "data": {
      "text/plain": [
       "googlemaps.client.Client"
      ]
     },
     "execution_count": 18,
     "metadata": {},
     "output_type": "execute_result"
    }
   ],
   "source": [
    "type(maps)"
   ]
  },
  {
   "cell_type": "code",
   "execution_count": 19,
   "id": "4a44c704",
   "metadata": {},
   "outputs": [
    {
     "name": "stdout",
     "output_type": "stream",
     "text": [
      "<googlemaps.client.Client object at 0x1479fbc40>\n"
     ]
    }
   ],
   "source": [
    "print(maps)"
   ]
  },
  {
   "cell_type": "code",
   "execution_count": 87,
   "id": "9a3425aa",
   "metadata": {},
   "outputs": [],
   "source": [
    "places = [\"서울시청\", \"국립국악원\", \"해운대해수욕장\"]\n",
    "\n",
    "def getGeolocationslatandlng(places: []) -> pd.DataFrame():\n",
    "\n",
    "    lat = []  # 위도\n",
    "    lng = []  # 경도\n",
    "\n",
    "    i = 0  \n",
    "\n",
    "    for place in places:\n",
    "        try: \n",
    "            i = i + 1 \n",
    "            print(i, place, 'Okay')\n",
    "            geo_location = maps.geocode(place)[0].get('geometry')\n",
    "            lat.append(geo_location['location']['lat'])\n",
    "            lng.append(geo_location['location']['lng'])\n",
    "        except:\n",
    "            lat.append('')\n",
    "            lng.append('')\n",
    "            print(i, \"did not got the infor!!\")\n",
    "            \n",
    "        geoLocation_df = pd.DataFrame({'위도': lat, '경도':lng },index = places)\n",
    "\n",
    "    return geoLocation_df\n",
    "\n",
    "ㅁㅁ"
   ]
  },
  {
   "cell_type": "code",
   "execution_count": 83,
   "id": "648d41cd",
   "metadata": {},
   "outputs": [
    {
     "name": "stdout",
     "output_type": "stream",
     "text": [
      "1 서울시청\n",
      "2 국립국악원\n",
      "3 해운대해수욕장\n"
     ]
    }
   ],
   "source": [
    "df = getGeolocationslatandlng(places)"
   ]
  },
  {
   "cell_type": "code",
   "execution_count": 88,
   "id": "669f5b61",
   "metadata": {},
   "outputs": [
    {
     "name": "stdout",
     "output_type": "stream",
     "text": [
      "                위도          경도\n",
      "서울시청     37.565704  126.976862\n",
      "국립국악원    37.477759  127.008304\n",
      "해운대해수욕장  35.158698  129.160384\n"
     ]
    }
   ],
   "source": [
    "print(df)"
   ]
  },
  {
   "cell_type": "code",
   "execution_count": 90,
   "id": "99309924",
   "metadata": {},
   "outputs": [],
   "source": [
    "#CSV File로 저장하기 \n",
    "\n",
    "df.to_csv(\"./geoCodinglatandlng.csv\")"
   ]
  },
  {
   "cell_type": "code",
   "execution_count": null,
   "id": "68fcc1cc",
   "metadata": {},
   "outputs": [],
   "source": []
  }
 ],
 "metadata": {
  "kernelspec": {
   "display_name": "Python 3 (ipykernel)",
   "language": "python",
   "name": "python3"
  },
  "language_info": {
   "codemirror_mode": {
    "name": "ipython",
    "version": 3
   },
   "file_extension": ".py",
   "mimetype": "text/x-python",
   "name": "python",
   "nbconvert_exporter": "python",
   "pygments_lexer": "ipython3",
   "version": "3.10.13"
  }
 },
 "nbformat": 4,
 "nbformat_minor": 5
}
