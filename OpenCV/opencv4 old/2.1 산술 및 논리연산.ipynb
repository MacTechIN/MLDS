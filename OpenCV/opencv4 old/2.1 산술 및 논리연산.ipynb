{
 "cells": [
  {
   "cell_type": "markdown",
   "id": "6a1d2cbe",
   "metadata": {},
   "source": [
    "## 02. 영상처리기본연산"
   ]
  },
  {
   "cell_type": "code",
   "execution_count": 2,
   "id": "84c15889",
   "metadata": {},
   "outputs": [],
   "source": [
    "#산술 및 논리 연산 예제 (c2_arithmeticLogical.py)\n",
    "\n",
    "# 관련 라이브러리 선언\n",
    "import numpy as np\n",
    "import cv2\n",
    "from imgRead import imgRead # Code 로 있음, 설치가능 \n",
    "from createFolder import createFolder\n"
   ]
  },
  {
   "cell_type": "code",
   "execution_count": null,
   "id": "b4fcd695",
   "metadata": {},
   "outputs": [],
   "source": [
    "import cv2\n",
    "\n",
    "# 영상을 불러오기\n",
    "def imgRead(imgPath, imgReadType, imgResWidth, imgResHeight):\n",
    "    img = cv2.imread(imgPath, imgReadType)\n",
    "    if imgResHeight != 0 | imgResWidth != 0:\n",
    "        img = cv2.resize(img, (imgResWidth, imgResHeight))\n",
    "        \n",
    "    return img\n"
   ]
  },
  {
   "cell_type": "code",
   "execution_count": 31,
   "id": "d929870b",
   "metadata": {},
   "outputs": [],
   "source": [
    "# 영상 읽기\n",
    "# 이미지 크기 리사이즈 후 통일 \n",
    "\n",
    "images = []\n",
    "\n",
    "img1 = imgRead(\"./images/img1.jpg\", cv2.IMREAD_UNCHANGED, 320, 240)\n",
    "img2 = imgRead(\"./images/img2.jpg\", cv2.IMREAD_UNCHANGED, 320, 240)\n",
    "img3 = imgRead(\"./images/img3.jpg\", cv2.IMREAD_UNCHANGED, 320, 240)\n",
    "img4 = imgRead(\"./images/img4.jpg\", cv2.IMREAD_UNCHANGED, 320, 240)\n",
    "img5 = imgRead(\"./images/img5.jpg\", cv2.IMREAD_GRAYSCALE, 320, 240)\n"
   ]
  },
  {
   "cell_type": "code",
   "execution_count": 32,
   "id": "61089931",
   "metadata": {},
   "outputs": [
    {
     "name": "stdout",
     "output_type": "stream",
     "text": [
      "img5 shape: (240, 320)\n"
     ]
    }
   ],
   "source": [
    "print(\"img5 shape:\", img5.shape)"
   ]
  },
  {
   "cell_type": "code",
   "execution_count": 33,
   "id": "0d7d998f",
   "metadata": {},
   "outputs": [
    {
     "data": {
      "text/plain": [
       "array([[0, 0, 0, ..., 0, 0, 0],\n",
       "       [0, 0, 0, ..., 0, 0, 0],\n",
       "       [0, 0, 0, ..., 0, 0, 0],\n",
       "       ...,\n",
       "       [0, 0, 0, ..., 0, 0, 0],\n",
       "       [0, 0, 0, ..., 0, 0, 0],\n",
       "       [0, 0, 0, ..., 0, 0, 0]], dtype=uint8)"
      ]
     },
     "execution_count": 33,
     "metadata": {},
     "output_type": "execute_result"
    }
   ],
   "source": [
    "# 마스크 선언 및 초기화\n",
    "mask = np.full(shape=img5.shape, fill_value=0, dtype=np.uint8) # (세로, 가로) -> (240,320)\n",
    "# mask = (240, 320)\n",
    "#세로(y), 가로(x)\n",
    "h, w = img5.shape\n",
    "\n",
    "x = (int)(w/2) - 60; \n",
    "y = (int)(h/2) - 60\n",
    "\n",
    "#직사각형\n",
    "cv2.rectangle(mask, (x,y), (x+120, y+120), (255,255,255), -1)\n",
    "#마스크로 "
   ]
  },
  {
   "cell_type": "code",
   "execution_count": 10,
   "id": "8985af7b",
   "metadata": {},
   "outputs": [
    {
     "name": "stdout",
     "output_type": "stream",
     "text": [
      "100\n",
      "60\n"
     ]
    }
   ],
   "source": [
    "print(x) \n",
    "print(y)"
   ]
  },
  {
   "cell_type": "code",
   "execution_count": 11,
   "id": "6836d7b1",
   "metadata": {},
   "outputs": [
    {
     "data": {
      "text/plain": [
       "(240, 320)"
      ]
     },
     "execution_count": 11,
     "metadata": {},
     "output_type": "execute_result"
    }
   ],
   "source": [
    "mask.shape"
   ]
  },
  {
   "cell_type": "code",
   "execution_count": 12,
   "id": "863bea75",
   "metadata": {},
   "outputs": [],
   "source": [
    "# 산술 및 논리 연산 수행\n",
    "ress = []\n",
    "ress.append(cv2.add(img1, img2)) # 코끼리, \n",
    "ress.append(cv2.addWeighted(img1, 0.5, img2, 0.5, 0)) # 열화상 , 가증치 0.5 설정 \n",
    "\n",
    "ress.append(cv2.subtract(img3, img4)) # img3- img4 \n",
    "ress.append(cv2.absdiff(img3, img4))\n",
    "\n",
    "ress.append(cv2.bitwise_not(img5)) # 비트연산 수행 \n",
    "ress.append(cv2.bitwise_and(img5, mask))"
   ]
  },
  {
   "cell_type": "code",
   "execution_count": 18,
   "id": "4004b0eb",
   "metadata": {},
   "outputs": [],
   "source": [
    "# 결과 영상 출력\n",
    "displays = [(\"input1\", img1),\n",
    "            (\"input2\", img2),\n",
    "            (\"input3\", img3),\n",
    "            (\"input4\", img4),\n",
    "            (\"input5\", img5),\n",
    "            (\"res1\", ress[0]),\n",
    "            (\"res2\", ress[1]),\n",
    "            (\"res3\", ress[2]),\n",
    "            (\"res4\", ress[3]),\n",
    "            (\"res5\", ress[4]),\n",
    "            (\"res6\", ress[5]),]\n",
    "\n",
    "\n",
    "for (name, out) in displays:\n",
    "    cv2.imshow(name, out)"
   ]
  },
  {
   "cell_type": "code",
   "execution_count": 21,
   "id": "9eb04b52",
   "metadata": {},
   "outputs": [],
   "source": [
    "cv2.imshow('img5', img5)"
   ]
  },
  {
   "cell_type": "code",
   "execution_count": null,
   "id": "ede49940",
   "metadata": {},
   "outputs": [],
   "source": []
  },
  {
   "cell_type": "code",
   "execution_count": 22,
   "id": "78f4fb14",
   "metadata": {},
   "outputs": [],
   "source": [
    "# 키보드 입력을 기다린 후 모든 영상창 닫기\n",
    "cv2.waitKey(0)\n",
    "cv2.destroyAllWindows()\n"
   ]
  },
  {
   "cell_type": "code",
   "execution_count": 34,
   "id": "b8c2dc80",
   "metadata": {},
   "outputs": [
    {
     "data": {
      "text/plain": [
       "-1"
      ]
     },
     "execution_count": 34,
     "metadata": {},
     "output_type": "execute_result"
    }
   ],
   "source": [
    "cv2.waitKey(1)"
   ]
  },
  {
   "cell_type": "markdown",
   "id": "4205e615",
   "metadata": {},
   "source": [
    "# 밝기(명암비) Contrest 조절 "
   ]
  },
  {
   "cell_type": "code",
   "execution_count": 2,
   "id": "799ddf9f",
   "metadata": {},
   "outputs": [],
   "source": [
    "#영상 명암비 조절 예제 (c2_contrast.py)\n",
    "\n",
    "import numpy as np\n",
    "# 관련 라이브러리 선언\n",
    "import cv2\n",
    "from imgRead import imgRead\n",
    "from createFolder import createFolder\n",
    "\n",
    "# 영상 읽기\n",
    "img1 = imgRead(\"./images/img5.jpg\", cv2.IMREAD_GRAYSCALE, 320, 240)"
   ]
  },
  {
   "cell_type": "code",
   "execution_count": 3,
   "id": "c5a6fa51",
   "metadata": {},
   "outputs": [],
   "source": [
    "# 영상 읽기\n",
    "img1 = imgRead(\"./images/img5.jpg\", cv2.IMREAD_GRAYSCALE, 320, 240)"
   ]
  },
  {
   "cell_type": "code",
   "execution_count": 4,
   "id": "62b1370f",
   "metadata": {},
   "outputs": [],
   "source": [
    "# 영상 명암비 조절 변수 선언 및 초기화\n",
    "multi_lut = np.full(shape=[256], fill_value=0, dtype=np.uint8)\n",
    "log_lut = np.full(shape=[256], fill_value=0, dtype=np.uint8)\n",
    "invol_lut = np.full(shape=[256], fill_value=0, dtype=np.uint8)\n",
    "sel_lut = np.full(shape=[256], fill_value=0, dtype=np.uint8)"
   ]
  },
  {
   "cell_type": "code",
   "execution_count": 11,
   "id": "f98b5406",
   "metadata": {},
   "outputs": [
    {
     "name": "stdout",
     "output_type": "stream",
     "text": [
      "2.718281828459045\n",
      "1.0\n",
      "1.0\n"
     ]
    }
   ],
   "source": [
    "import math \n",
    "\n",
    "print(math.e) # 자연상수 \n",
    "print(math.log(math.e))\n",
    "print(np.log(np.e))"
   ]
  },
  {
   "cell_type": "code",
   "execution_count": 14,
   "id": "403863e4",
   "metadata": {},
   "outputs": [
    {
     "name": "stdout",
     "output_type": "stream",
     "text": [
      "8.0\n",
      "8.0\n"
     ]
    }
   ],
   "source": [
    "#제곱\n",
    "print(math.pow(2,3)) # return 실수\n",
    "print(np.power(2.0,3)) #return 입력값형식동일"
   ]
  },
  {
   "cell_type": "code",
   "execution_count": 20,
   "id": "7d2e9187",
   "metadata": {},
   "outputs": [
    {
     "name": "stdout",
     "output_type": "stream",
     "text": [
      "2 0\n",
      "8.0\n",
      "8\n",
      "5.545177444479562\n",
      "3.141592653589793\n"
     ]
    }
   ],
   "source": [
    "#제곱 : 2의 3승 \n",
    "print(2,0 **3)\n",
    "print(math.pow(2,3))\n",
    "print(np.power(2,3))\n",
    "\n",
    "print(np.log(1+255)) #5.545177444479562\n",
    "print(math.pi)"
   ]
  },
  {
   "cell_type": "code",
   "execution_count": 22,
   "id": "5797c133",
   "metadata": {},
   "outputs": [
    {
     "name": "stdout",
     "output_type": "stream",
     "text": [
      "2.0\n"
     ]
    }
   ],
   "source": [
    "#5를 밑으로하는 25의 로그 \n",
    "print(math.log(25,5))# 25 = 5 ** 2 "
   ]
  },
  {
   "cell_type": "code",
   "execution_count": 23,
   "id": "4d6f0db4",
   "metadata": {},
   "outputs": [],
   "source": [
    "multi_v = 2 \n",
    "gamma1 = 0.1 \n",
    "gamma2= 0.6\n",
    "thres1 = 5 \n",
    "thres2 = 100\n",
    "\n",
    "#로그 , 파워 의 성질을 이용해 명암비를 조절 한다. \n",
    "max_v_log = 255 / np.log(1 + 255)   #로그 (자연상수 e 를 밑으로 하는 로그)\n",
    "max_v_invol = 255 / np.power(255, gamma1) # 제곱 \n",
    "max_v_sel = 100 / np.power(thres2, gamma2) # 제곱 "
   ]
  },
  {
   "cell_type": "code",
   "execution_count": null,
   "id": "ffffd472",
   "metadata": {},
   "outputs": [],
   "source": [
    "for i in range(256):\n",
    "    val = i * multi_v\n",
    "    if val > 255 : val = 255 # val 의 최대값이 255 까지  \n",
    "    multi_lut[i] = val\n",
    "    log_lut[i] = np.round(max_v_log * np.log(1+i))\n",
    "    invol_lut[i] = np.round(max_v_invol * np.power(i, gamma1))\n",
    "    \n",
    "    if i < thres1 : sel_lut[i] = i\n",
    "    elif i > thres2 : sel_lut[i] = i\n",
    "    else: sel_lut[i] =  np.round(max_v_sel * np.power(i, gamma2))\n"
   ]
  },
  {
   "cell_type": "code",
   "execution_count": null,
   "id": "6603dc22",
   "metadata": {},
   "outputs": [],
   "source": [
    "# 명암비 조절\n",
    "#LUT : Look up Table \n",
    "# performs a look-up table transform of a array \n",
    "# 특정 값에 해당하는 결과 값이 저장 되어 있는 테이블 이다. \n",
    "ress = []\n",
    "ress.append(cv2.LUT(img1, multi_lut)) # Param: Source, LUT, DST :output array \n",
    "ress.append(cv2.LUT(img1, log_lut))  # 로그 변환\n",
    "ress.append(cv2.LUT(img1, invol_lut)) # 거듭 제곱 \n",
    "ress.append(cv2.LUT(img1, sel_lut))"
   ]
  },
  {
   "cell_type": "code",
   "execution_count": null,
   "id": "eb5c321f",
   "metadata": {},
   "outputs": [],
   "source": [
    "# 결과 영상 출력\n",
    "displays = [(\"input1\", img1),\n",
    "            (\"res1\", ress[0]),\n",
    "            (\"res2\", ress[1]),\n",
    "            (\"res3\", ress[2]),\n",
    "            (\"res4\", ress[3])]\n",
    "for (name, out) in displays:\n",
    "    cv2.imshow(name, out)\n"
   ]
  },
  {
   "cell_type": "code",
   "execution_count": null,
   "id": "af19eec8",
   "metadata": {},
   "outputs": [],
   "source": [
    "# 키보드 입력을 기다린 후 모든 영상창 닫기\n",
    "cv2.waitKey(0)\n",
    "cv2.destroyAllWindows()"
   ]
  },
  {
   "cell_type": "code",
   "execution_count": null,
   "id": "76043620",
   "metadata": {},
   "outputs": [],
   "source": [
    "# 영상 저장\n",
    "save_dir = './code_res_imgs/c2_contrast'\n",
    "createFolder(save_dir)\n",
    "for (name, out) in displays:\n",
    "    cv2.imwrite(save_dir + \"/\" + name + \".jpg\", out)"
   ]
  },
  {
   "cell_type": "code",
   "execution_count": null,
   "id": "e14d2af2",
   "metadata": {},
   "outputs": [],
   "source": [
    "#%%\n",
    "cv2.waitKey(1)"
   ]
  },
  {
   "cell_type": "markdown",
   "id": "d03fff14",
   "metadata": {},
   "source": [
    "## 히스토그램 계산 예제 (c_histogram1.py) "
   ]
  },
  {
   "cell_type": "raw",
   "id": "b95907fb",
   "metadata": {},
   "source": []
  },
  {
   "cell_type": "code",
   "execution_count": 29,
   "id": "9b8ac1ba",
   "metadata": {},
   "outputs": [],
   "source": [
    "# 관련 라이브러리 선언\n",
    "import numpy as np\n",
    "import cv2\n",
    "from matplotlib import pyplot as plt\n",
    "from imgRead import imgRead\n",
    "from createFolder import createFolder"
   ]
  },
  {
   "cell_type": "code",
   "execution_count": 30,
   "id": "44e5c76d",
   "metadata": {},
   "outputs": [],
   "source": [
    "# 영상 읽기\n",
    "img1 = imgRead(\"./images/img5.jpg\", cv2.IMREAD_GRAYSCALE, 320, 240)"
   ]
  },
  {
   "cell_type": "code",
   "execution_count": 31,
   "id": "353a0e84",
   "metadata": {},
   "outputs": [],
   "source": [
    "# 히스토그램 계산\n",
    "ch1 = [0]; ch2 = [0]; ch3 = [0] # 그레이 영상에 대한 3가지 체널 0-5  \n",
    "\n",
    "ranges1 = [0, 256] # 히스토그램을 구하고자 하는 구간 설정 \n",
    "ranges2 = [0, 128] # \n",
    "ranges3 = [128, 256] # \n",
    "\n",
    "# 총 빈(bean)의 갯수  \n",
    "# 빈과 Ranges 가 동일한 인덱스를 가지지 않는다.(주의)\n",
    "histSize1 = [256]\n",
    "histSize2 = [128] \n",
    "histSize3 = [128] "
   ]
  },
  {
   "cell_type": "code",
   "execution_count": 32,
   "id": "fc63bf6b",
   "metadata": {},
   "outputs": [],
   "source": [
    "# 히스토그램 계산 \n",
    "hist1 = cv2.calcHist([img1], ch1, None, histSize1, ranges1) \n",
    "hist2 = cv2.calcHist([img1], ch2, None, histSize2, ranges2)\n",
    "hist3 = cv2.calcHist([img1], ch3, None, histSize3, ranges3)"
   ]
  },
  {
   "cell_type": "code",
   "execution_count": 34,
   "id": "683e4497",
   "metadata": {},
   "outputs": [],
   "source": [
    "# 히스토그램 출력 및 저장\n",
    "bin_x1 = np.arange(256)\n",
    "bin_x2 = np.arange(128)\n",
    "bin_x3 = np.arange(128) + 128"
   ]
  },
  {
   "cell_type": "code",
   "execution_count": 35,
   "id": "4412c129",
   "metadata": {},
   "outputs": [
    {
     "data": {
      "text/plain": [
       "(0.0, 255.0)"
      ]
     },
     "execution_count": 35,
     "metadata": {},
     "output_type": "execute_result"
    },
    {
     "data": {
      "image/png": "[encoded data removed]",
      "text/plain": [
       "<Figure size 640x480 with 1 Axes>"
      ]
     },
     "metadata": {},
     "output_type": "display_data"
    }
   ],
   "source": [
    "plt.title(\"Histogram\")\n",
    "plt.xlabel(\"Bin\")\n",
    "plt.ylabel(\"Frequency\")\n",
    "\n",
    "plt.plot(bin_x1, hist1, color='b')\n",
    "plt.bar(bin_x2, hist2[:,0], width=6,color='r')\n",
    "plt.bar(bin_x3, hist3[:,0], width=6,color='g')\n",
    "\n",
    "plt.grid(True, lw = 1, ls = '--', c= '.75')\n",
    "plt.xlim([0,255])"
   ]
  },
  {
   "cell_type": "code",
   "execution_count": 36,
   "id": "8213551c",
   "metadata": {},
   "outputs": [
    {
     "data": {
      "text/plain": [
       "<Figure size 640x480 with 0 Axes>"
      ]
     },
     "metadata": {},
     "output_type": "display_data"
    }
   ],
   "source": [
    "# 영상 저장\n",
    "save_dir = './code_res_imgs/c2_histogram1'\n",
    "createFolder(save_dir)\n",
    "plt.savefig(save_dir + \"/\" + \"hist.png\")\n",
    "\n",
    "plt.show()"
   ]
  },
  {
   "cell_type": "markdown",
   "id": "c58683b9",
   "metadata": {},
   "source": [
    "# 히스토그램 평활화 예제 (c2_histogramEqualization.py)"
   ]
  },
  {
   "cell_type": "code",
   "execution_count": 37,
   "id": "1fabcd7e",
   "metadata": {},
   "outputs": [],
   "source": [
    "# 영상 읽기\n",
    "img1 = imgRead(\"./images/img6.jpg\", cv2.IMREAD_GRAYSCALE, 320, 240)"
   ]
  },
  {
   "cell_type": "code",
   "execution_count": 38,
   "id": "17828d77",
   "metadata": {},
   "outputs": [],
   "source": [
    "#히스토그램 평활화 및 히스토그램 계산\n",
    "res1 = cv2.equalizeHist(img1)\n",
    "ch1 = [0]; ranges1 = [0, 256]; histSize1 = [256]\n",
    "hist1 = cv2.calcHist([img1], ch1, None, histSize1, ranges1)\n",
    "hist2 = cv2.calcHist([res1], ch1, None, histSize1, ranges1)"
   ]
  },
  {
   "cell_type": "code",
   "execution_count": null,
   "id": "2edda91d",
   "metadata": {},
   "outputs": [],
   "source": [
    "#상수곱, 로그곱, 거급제곱 변환 기반 명암비 조절 및 히스토그램 계산\n",
    "multi_lut = np.full(shape=[256], fill_value=0, dtype=np.uint8)\n",
    "log_lut = np.full(shape=[256], fill_value=0, dtype=np.uint8)\n",
    "invol1_lut = np.full(shape=[256], fill_value=0, dtype=np.uint8)\n",
    "multi_v = 2; gamma1 = 0.4\n",
    "thres1 = 5; thres2 = 100\n",
    "max_v_log = 255 / np.log(1 + 255)\n",
    "max_v_invol1 = 255 / np.power(255, gamma1)\n",
    "\n",
    "for i in range(256):\n",
    "    val = i * multi_v\n",
    "    if val > 255 : val = 255\n",
    "    multi_lut[i] = val\n",
    "    log_lut[i] = np.round(max_v_log * np.log(1+i))\n",
    "    invol1_lut[i] = np.round(max_v_invol1 * np.power(i, gamma1))\n"
   ]
  },
  {
   "cell_type": "code",
   "execution_count": null,
   "id": "8cb42aa1",
   "metadata": {},
   "outputs": [],
   "source": [
    "# 명암비 조절\n",
    "res2 = cv2.LUT(img1, multi_lut)\n",
    "res3 = cv2.LUT(img1, log_lut)\n",
    "res4 = cv2.LUT(img1, invol1_lut)\n",
    "\n",
    "hist3 = cv2.calcHist([res2], ch1, None, histSize1, ranges1)\n",
    "hist4 = cv2.calcHist([res3], ch1, None, histSize1, ranges1)\n",
    "hist5 = cv2.calcHist([res4], ch1, None, histSize1, ranges1)"
   ]
  },
  {
   "cell_type": "code",
   "execution_count": null,
   "id": "1d50cda0",
   "metadata": {},
   "outputs": [],
   "source": [
    "# 히스토그램 출력 및 결과 저장\n",
    "bin_x = np.arange(256)\n",
    "fig_index = 0\n",
    "\n",
    "save_dir = './code_res_imgs/c2_histogramEqualization'\n",
    "\n",
    "createFolder(save_dir)\n",
    "display_img = [(\"input1\", img1),\n",
    "            (\"res1\", res1),\n",
    "            (\"res2\", res2),\n",
    "            (\"res3\", res3),\n",
    "            (\"res4\", res4)]\n",
    "\n",
    "for (name, out) in display_img:\n",
    "    cv2.imshow(name, out)\n",
    "    cv2.imwrite(save_dir + \"/\" + name + \".jpg\", out)\n",
    "\n",
    "dlsplay_hist = [(\"Input Histogram\", hist1),\n",
    "                (\"Equalization-convert Histogram\", hist2),\n",
    "                (\"Multiply-convert Histogram\", hist3),\n",
    "                (\"log-convert Histogram\", hist4),\n",
    "                (\"Invil-convert Histogram\", hist5)]\n",
    "\n",
    "for (name, out) in dlsplay_hist:\n",
    "    plt.figure(fig_index)\n",
    "    plt.title(name); plt.xlabel(\"Bin\"); plt.ylabel(\"Frequency\")\n",
    "    plt.bar(bin_x, out[:,0], width=6, color='g')\n",
    "    plt.grid(True, lw=1, ls='--', c='.75')\n",
    "    plt.xlim([0, 255])\n",
    "    plt.savefig(save_dir + \"/\" + name + \".png\")\n",
    "    fig_index += 1\n",
    "\n",
    "\n",
    "plt.show()"
   ]
  },
  {
   "cell_type": "code",
   "execution_count": null,
   "id": "842db96c",
   "metadata": {},
   "outputs": [],
   "source": [
    "# 키보드 입력을 기다린 후 모든 영상창 닫기\n",
    "cv2.waitKey(0)\n",
    "cv2.destroyAllWindows()"
   ]
  },
  {
   "cell_type": "code",
   "execution_count": null,
   "id": "d1c58475",
   "metadata": {},
   "outputs": [],
   "source": [
    "cv2.waitKey(1)"
   ]
  },
  {
   "cell_type": "code",
   "execution_count": null,
   "id": "7a1d7594",
   "metadata": {},
   "outputs": [],
   "source": [
    "# 히스토그램 역투영 예제 (c2_histogramBackprojection.py)"
   ]
  },
  {
   "cell_type": "code",
   "execution_count": null,
   "id": "a21839c8",
   "metadata": {},
   "outputs": [],
   "source": [
    "# 영상 읽기\n",
    "img1 = imgRead(\"./images/img7.jpg\", cv2.IMREAD_UNCHANGED, 320, 240)"
   ]
  },
  {
   "cell_type": "code",
   "execution_count": null,
   "id": "b6750d61",
   "metadata": {},
   "outputs": [],
   "source": [
    "# 컬러 공간 변환 및 채널 분할\n",
    "img1_HSV = cv2.cvtColor(img1, cv2.COLOR_BGR2HSV)\n",
    "img1_H, img1_S, img1_V = cv2.split(img1_HSV)"
   ]
  },
  {
   "cell_type": "code",
   "execution_count": null,
   "id": "a22f3661",
   "metadata": {},
   "outputs": [],
   "source": [
    "# 입력 히스토그램 생성\n",
    "ch1 = [0]; ranges1 = [0, 256]; histSize1 = [256]; bin_x1 = np.arange(256)\n",
    "mask1 = img1_H[110:150, 200:240]\n",
    "hist_mask = cv2.calcHist([mask1], ch1, None, histSize1, ranges1)"
   ]
  },
  {
   "cell_type": "code",
   "execution_count": null,
   "id": "8abd378c",
   "metadata": {},
   "outputs": [],
   "source": [
    "# 히스토그램 역투영 수행\n",
    "bp = cv2.calcBackProject([img1_H], ch1, hist_mask, ranges1, 1)"
   ]
  },
  {
   "cell_type": "code",
   "execution_count": null,
   "id": "8708605f",
   "metadata": {},
   "outputs": [],
   "source": [
    "# 결과영상\n",
    "ret1, res1 = cv2.threshold(bp, 0, 255, cv2.THRESH_BINARY)\n",
    "mask2 = np.full(shape=img1.shape, fill_value=0, dtype=np.uint8)\n",
    "mask2[:,:,0] = res1; mask2[:,:,1] = res1; mask2[:,:,2] = res1\n",
    "res2 = cv2.bitwise_and(img1, mask2)"
   ]
  },
  {
   "cell_type": "code",
   "execution_count": null,
   "id": "d193f8d5",
   "metadata": {},
   "outputs": [],
   "source": [
    "cv2.rectangle(img1, (200, 110), (240, 150), (255, 255, 255), 2) #마스크 박스 치기 \n",
    "cv2.imshow(\"img1+mask\", img1)\n",
    "cv2.imshow(\"res1(binary)\", res1)\n",
    "cv2.imshow(\"res1(overlap)\", res2)"
   ]
  },
  {
   "cell_type": "code",
   "execution_count": null,
   "id": "bd8b3de1",
   "metadata": {},
   "outputs": [],
   "source": [
    "# 히스토그램 출력 및 결과 저장\n",
    "save_dir = './code_res_imgs/c4_3'\n",
    "createFolder(save_dir)\n",
    "cv2.imwrite(save_dir + \"/\" + \"input1.png\", img1)\n",
    "cv2.imwrite(save_dir + \"/\" + \"res1.png\", res1)\n",
    "cv2.imwrite(save_dir + \"/\" + \"res2.png\", res2)"
   ]
  },
  {
   "cell_type": "code",
   "execution_count": null,
   "id": "21ddf2a5",
   "metadata": {},
   "outputs": [],
   "source": [
    "hist_Hue = cv2.calcHist([img1_H], ch1, None, histSize1, ranges1)\n",
    "hist_res = cv2.calcHist([bp], ch1, None, histSize1, ranges1)\n",
    "displays = [(\"Input Histogram\", hist_Hue, 0, np.arange(256), 1),\n",
    "            (\"Mask Histogram\", hist_mask, 0, np.arange(256), 2),\n",
    "            (\"Res Histogram\", hist_res, 1, np.arange(255), 3)]"
   ]
  },
  {
   "cell_type": "code",
   "execution_count": null,
   "id": "a0606629",
   "metadata": {},
   "outputs": [],
   "source": [
    "for (name, out, hist_index, hist_bins, index) in displays:\n",
    "    plt.figure(index)\n",
    "    plt.title(name); plt.xlabel(\"Bin\"); plt.ylabel(\"Frequency\")\n",
    "    plt.bar(hist_bins, out[hist_index:, 0], width=6, color='g')\n",
    "    plt.grid(True, lw=1, ls='--', c='.75')\n",
    "    plt.xlim([0, 255])\n",
    "    plt.savefig(save_dir + \"/\" + name + \".png\")"
   ]
  },
  {
   "cell_type": "code",
   "execution_count": null,
   "id": "c090a92c",
   "metadata": {},
   "outputs": [],
   "source": [
    "plt.show()\n",
    "\n",
    "# 키보드 입력을 기다린 후 모든 영상창 닫기\n",
    "cv2.waitKey(0)\n",
    "cv2.destroyAllWindows()"
   ]
  },
  {
   "cell_type": "code",
   "execution_count": null,
   "id": "4b76c9f8",
   "metadata": {},
   "outputs": [],
   "source": []
  },
  {
   "cell_type": "code",
   "execution_count": null,
   "id": "58c50661",
   "metadata": {},
   "outputs": [],
   "source": []
  },
  {
   "cell_type": "code",
   "execution_count": null,
   "id": "099687dc",
   "metadata": {},
   "outputs": [],
   "source": []
  },
  {
   "cell_type": "code",
   "execution_count": null,
   "id": "ffc1ba6d",
   "metadata": {},
   "outputs": [],
   "source": []
  },
  {
   "cell_type": "code",
   "execution_count": null,
   "id": "75c72e30",
   "metadata": {},
   "outputs": [],
   "source": []
  },
  {
   "cell_type": "code",
   "execution_count": null,
   "id": "5568e113",
   "metadata": {},
   "outputs": [],
   "source": []
  },
  {
   "cell_type": "code",
   "execution_count": null,
   "id": "afb02d32",
   "metadata": {},
   "outputs": [],
   "source": []
  },
  {
   "cell_type": "code",
   "execution_count": null,
   "id": "8f4ef92d",
   "metadata": {},
   "outputs": [],
   "source": []
  },
  {
   "cell_type": "code",
   "execution_count": null,
   "id": "e7e2bb6f",
   "metadata": {},
   "outputs": [],
   "source": []
  },
  {
   "cell_type": "code",
   "execution_count": null,
   "id": "41e0b83d",
   "metadata": {},
   "outputs": [],
   "source": []
  },
  {
   "cell_type": "code",
   "execution_count": null,
   "id": "56b9604a",
   "metadata": {},
   "outputs": [],
   "source": []
  },
  {
   "cell_type": "code",
   "execution_count": null,
   "id": "3ffd6a71",
   "metadata": {},
   "outputs": [],
   "source": []
  },
  {
   "cell_type": "code",
   "execution_count": null,
   "id": "3bdfcba9",
   "metadata": {},
   "outputs": [],
   "source": []
  },
  {
   "cell_type": "code",
   "execution_count": null,
   "id": "f8f0d34d",
   "metadata": {},
   "outputs": [],
   "source": []
  },
  {
   "cell_type": "code",
   "execution_count": null,
   "id": "9b4fee56",
   "metadata": {},
   "outputs": [],
   "source": []
  },
  {
   "cell_type": "code",
   "execution_count": null,
   "id": "debafa80",
   "metadata": {},
   "outputs": [],
   "source": []
  },
  {
   "cell_type": "code",
   "execution_count": null,
   "id": "9b07a4c4",
   "metadata": {},
   "outputs": [],
   "source": []
  },
  {
   "cell_type": "code",
   "execution_count": null,
   "id": "288c2472",
   "metadata": {},
   "outputs": [],
   "source": []
  },
  {
   "cell_type": "code",
   "execution_count": null,
   "id": "0b63b785",
   "metadata": {},
   "outputs": [],
   "source": []
  },
  {
   "cell_type": "code",
   "execution_count": null,
   "id": "650a5936",
   "metadata": {},
   "outputs": [],
   "source": []
  },
  {
   "cell_type": "code",
   "execution_count": null,
   "id": "ca9a1fe9",
   "metadata": {},
   "outputs": [],
   "source": []
  },
  {
   "cell_type": "code",
   "execution_count": null,
   "id": "1eb6dd82",
   "metadata": {},
   "outputs": [],
   "source": []
  },
  {
   "cell_type": "code",
   "execution_count": null,
   "id": "43f81579",
   "metadata": {},
   "outputs": [],
   "source": []
  },
  {
   "cell_type": "code",
   "execution_count": null,
   "id": "4e229941",
   "metadata": {},
   "outputs": [],
   "source": []
  },
  {
   "cell_type": "code",
   "execution_count": null,
   "id": "cb450d9c",
   "metadata": {},
   "outputs": [],
   "source": []
  },
  {
   "cell_type": "code",
   "execution_count": null,
   "id": "5758c0f8",
   "metadata": {},
   "outputs": [],
   "source": []
  },
  {
   "cell_type": "code",
   "execution_count": null,
   "id": "9eb2fb25",
   "metadata": {},
   "outputs": [],
   "source": []
  },
  {
   "cell_type": "code",
   "execution_count": null,
   "id": "e50db3d9",
   "metadata": {},
   "outputs": [],
   "source": []
  },
  {
   "cell_type": "code",
   "execution_count": null,
   "id": "2b45a68a",
   "metadata": {},
   "outputs": [],
   "source": []
  },
  {
   "cell_type": "code",
   "execution_count": null,
   "id": "022cb7b5",
   "metadata": {},
   "outputs": [],
   "source": []
  },
  {
   "cell_type": "code",
   "execution_count": null,
   "id": "684468a7",
   "metadata": {},
   "outputs": [],
   "source": []
  },
  {
   "cell_type": "code",
   "execution_count": null,
   "id": "28315563",
   "metadata": {},
   "outputs": [],
   "source": []
  },
  {
   "cell_type": "code",
   "execution_count": null,
   "id": "00c9cf96",
   "metadata": {},
   "outputs": [],
   "source": []
  },
  {
   "cell_type": "code",
   "execution_count": null,
   "id": "600bca7f",
   "metadata": {},
   "outputs": [],
   "source": []
  },
  {
   "cell_type": "code",
   "execution_count": null,
   "id": "91df6142",
   "metadata": {},
   "outputs": [],
   "source": []
  },
  {
   "cell_type": "code",
   "execution_count": null,
   "id": "794bf18f",
   "metadata": {},
   "outputs": [],
   "source": []
  },
  {
   "cell_type": "code",
   "execution_count": null,
   "id": "06fbbc7f",
   "metadata": {},
   "outputs": [],
   "source": []
  },
  {
   "cell_type": "code",
   "execution_count": null,
   "id": "eb00fa23",
   "metadata": {},
   "outputs": [],
   "source": []
  },
  {
   "cell_type": "code",
   "execution_count": null,
   "id": "374d8404",
   "metadata": {},
   "outputs": [],
   "source": []
  },
  {
   "cell_type": "code",
   "execution_count": null,
   "id": "684a1c80",
   "metadata": {},
   "outputs": [],
   "source": []
  },
  {
   "cell_type": "code",
   "execution_count": null,
   "id": "c660acf5",
   "metadata": {},
   "outputs": [],
   "source": []
  },
  {
   "cell_type": "code",
   "execution_count": null,
   "id": "fd40f248",
   "metadata": {},
   "outputs": [],
   "source": []
  },
  {
   "cell_type": "code",
   "execution_count": null,
   "id": "4754c18f",
   "metadata": {},
   "outputs": [],
   "source": []
  },
  {
   "cell_type": "code",
   "execution_count": null,
   "id": "4101f520",
   "metadata": {},
   "outputs": [],
   "source": []
  },
  {
   "cell_type": "code",
   "execution_count": null,
   "id": "60bafd57",
   "metadata": {},
   "outputs": [],
   "source": []
  },
  {
   "cell_type": "code",
   "execution_count": null,
   "id": "acfae1ff",
   "metadata": {},
   "outputs": [],
   "source": []
  },
  {
   "cell_type": "code",
   "execution_count": null,
   "id": "63fa1c72",
   "metadata": {},
   "outputs": [],
   "source": []
  },
  {
   "cell_type": "code",
   "execution_count": null,
   "id": "b34bf102",
   "metadata": {},
   "outputs": [],
   "source": []
  },
  {
   "cell_type": "code",
   "execution_count": null,
   "id": "741b4d7f",
   "metadata": {},
   "outputs": [],
   "source": []
  },
  {
   "cell_type": "code",
   "execution_count": null,
   "id": "282ae2cd",
   "metadata": {},
   "outputs": [],
   "source": []
  },
  {
   "cell_type": "code",
   "execution_count": null,
   "id": "293e11b9",
   "metadata": {},
   "outputs": [],
   "source": []
  },
  {
   "cell_type": "code",
   "execution_count": null,
   "id": "85245edf",
   "metadata": {},
   "outputs": [],
   "source": []
  },
  {
   "cell_type": "code",
   "execution_count": null,
   "id": "b31dc8e5",
   "metadata": {},
   "outputs": [],
   "source": []
  },
  {
   "cell_type": "code",
   "execution_count": null,
   "id": "bdff02f1",
   "metadata": {},
   "outputs": [],
   "source": []
  },
  {
   "cell_type": "code",
   "execution_count": null,
   "id": "a3df14fd",
   "metadata": {},
   "outputs": [],
   "source": []
  },
  {
   "cell_type": "code",
   "execution_count": null,
   "id": "7e9a8c10",
   "metadata": {},
   "outputs": [],
   "source": [
    "cv2.waitKey(1)"
   ]
  },
  {
   "cell_type": "code",
   "execution_count": null,
   "id": "93063253",
   "metadata": {},
   "outputs": [],
   "source": []
  },
  {
   "cell_type": "code",
   "execution_count": null,
   "id": "3b866884",
   "metadata": {},
   "outputs": [],
   "source": []
  },
  {
   "cell_type": "code",
   "execution_count": null,
   "id": "62906a4d",
   "metadata": {},
   "outputs": [],
   "source": []
  },
  {
   "cell_type": "code",
   "execution_count": null,
   "id": "16eb86ef",
   "metadata": {},
   "outputs": [],
   "source": []
  },
  {
   "cell_type": "code",
   "execution_count": null,
   "id": "307350fd",
   "metadata": {},
   "outputs": [],
   "source": []
  },
  {
   "cell_type": "code",
   "execution_count": null,
   "id": "608b73fa",
   "metadata": {},
   "outputs": [],
   "source": []
  },
  {
   "cell_type": "code",
   "execution_count": null,
   "id": "5285a208",
   "metadata": {},
   "outputs": [],
   "source": []
  },
  {
   "cell_type": "code",
   "execution_count": null,
   "id": "21a1ae77",
   "metadata": {},
   "outputs": [],
   "source": []
  },
  {
   "cell_type": "code",
   "execution_count": null,
   "id": "6e7845ad",
   "metadata": {},
   "outputs": [],
   "source": []
  }
 ],
 "metadata": {
  "kernelspec": {
   "display_name": "Python 3 (ipykernel)",
   "language": "python",
   "name": "python3"
  },
  "language_info": {
   "codemirror_mode": {
    "name": "ipython",
    "version": 3
   },
   "file_extension": ".py",
   "mimetype": "text/x-python",
   "name": "python",
   "nbconvert_exporter": "python",
   "pygments_lexer": "ipython3",
   "version": "3.11.5"
  }
 },
 "nbformat": 4,
 "nbformat_minor": 5
}
