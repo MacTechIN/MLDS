{
 "cells": [
  {
   "cell_type": "code",
   "execution_count": 2,
   "id": "abcd959d",
   "metadata": {},
   "outputs": [],
   "source": [
    "import pandas as pd"
   ]
  },
  {
   "cell_type": "code",
   "execution_count": 6,
   "id": "961b2a2a",
   "metadata": {},
   "outputs": [],
   "source": [
    "file_path = './read_csv_sample.csv'"
   ]
  },
  {
   "cell_type": "code",
   "execution_count": 7,
   "id": "6aebcba9",
   "metadata": {},
   "outputs": [],
   "source": [
    "df1 = pd.read_csv(file_path)"
   ]
  },
  {
   "cell_type": "code",
   "execution_count": 8,
   "id": "573e9733",
   "metadata": {},
   "outputs": [
    {
     "name": "stdout",
     "output_type": "stream",
     "text": [
      "   c0  c1  c2  c3\n",
      "0   0   1   4   7\n",
      "1   1   2   5   8\n",
      "2   2   3   6   9\n"
     ]
    }
   ],
   "source": [
    "print(df1)"
   ]
  },
  {
   "cell_type": "code",
   "execution_count": 9,
   "id": "e1794d72",
   "metadata": {},
   "outputs": [],
   "source": [
    "df2 = pd.read_csv(file_path, header= None)"
   ]
  },
  {
   "cell_type": "code",
   "execution_count": 10,
   "id": "d7bab072",
   "metadata": {},
   "outputs": [
    {
     "name": "stdout",
     "output_type": "stream",
     "text": [
      "    0   1   2   3\n",
      "0  c0  c1  c2  c3\n",
      "1   0   1   4   7\n",
      "2   1   2   5   8\n",
      "3   2   3   6   9\n"
     ]
    }
   ],
   "source": [
    "print(df2)"
   ]
  },
  {
   "cell_type": "code",
   "execution_count": 11,
   "id": "a98d720a",
   "metadata": {},
   "outputs": [],
   "source": [
    "df3 = pd.read_csv(file_path, index_col=None) "
   ]
  },
  {
   "cell_type": "code",
   "execution_count": 12,
   "id": "4bd58dd0",
   "metadata": {},
   "outputs": [
    {
     "name": "stdout",
     "output_type": "stream",
     "text": [
      "   c0  c1  c2  c3\n",
      "0   0   1   4   7\n",
      "1   1   2   5   8\n",
      "2   2   3   6   9\n"
     ]
    }
   ],
   "source": [
    "print(df3)"
   ]
  },
  {
   "cell_type": "code",
   "execution_count": 13,
   "id": "9e04d4e0",
   "metadata": {},
   "outputs": [],
   "source": [
    "df4 = pd.read_csv(file_path, index_col='c0')"
   ]
  },
  {
   "cell_type": "code",
   "execution_count": 14,
   "id": "af572889",
   "metadata": {},
   "outputs": [
    {
     "name": "stdout",
     "output_type": "stream",
     "text": [
      "    c1  c2  c3\n",
      "c0            \n",
      "0    1   4   7\n",
      "1    2   5   8\n",
      "2    3   6   9\n"
     ]
    }
   ],
   "source": [
    "print(df4)"
   ]
  },
  {
   "cell_type": "code",
   "execution_count": null,
   "id": "86d75a0f",
   "metadata": {},
   "outputs": [],
   "source": [
    "\n"
   ]
  }
 ],
 "metadata": {
  "kernelspec": {
   "display_name": "Python 3 (ipykernel)",
   "language": "python",
   "name": "python3"
  },
  "language_info": {
   "codemirror_mode": {
    "name": "ipython",
    "version": 3
   },
   "file_extension": ".py",
   "mimetype": "text/x-python",
   "name": "python",
   "nbconvert_exporter": "python",
   "pygments_lexer": "ipython3",
   "version": "3.10.13"
  }
 },
 "nbformat": 4,
 "nbformat_minor": 5
}
